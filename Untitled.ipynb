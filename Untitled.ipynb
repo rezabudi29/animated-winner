{
 "cells": [
  {
   "cell_type": "code",
   "execution_count": 1,
   "metadata": {},
   "outputs": [],
   "source": [
    "import numpy as np\n",
    "import pandas as pd\n",
    "from sklearn import preprocessing\n",
    "import matplotlib.pyplot as plt\n",
    "plt.rc(\"font\", size=14)\n",
    "from sklearn.linear_model import LogisticRegression\n",
    "from sklearn.model_selection import train_test_split\n",
    "import seaborn as sns"
   ]
  },
  {
   "cell_type": "code",
   "execution_count": 2,
   "metadata": {},
   "outputs": [
    {
     "data": {
      "text/html": [
       "<div>\n",
       "<style scoped>\n",
       "    .dataframe tbody tr th:only-of-type {\n",
       "        vertical-align: middle;\n",
       "    }\n",
       "\n",
       "    .dataframe tbody tr th {\n",
       "        vertical-align: top;\n",
       "    }\n",
       "\n",
       "    .dataframe thead th {\n",
       "        text-align: right;\n",
       "    }\n",
       "</style>\n",
       "<table border=\"1\" class=\"dataframe\">\n",
       "  <thead>\n",
       "    <tr style=\"text-align: right;\">\n",
       "      <th></th>\n",
       "      <th>customerID</th>\n",
       "      <th>gender</th>\n",
       "      <th>SeniorCitizen</th>\n",
       "      <th>Partner</th>\n",
       "      <th>Dependents</th>\n",
       "      <th>tenure</th>\n",
       "      <th>PhoneService</th>\n",
       "      <th>MultipleLines</th>\n",
       "      <th>InternetService</th>\n",
       "      <th>OnlineSecurity</th>\n",
       "      <th>...</th>\n",
       "      <th>DeviceProtection</th>\n",
       "      <th>TechSupport</th>\n",
       "      <th>StreamingTV</th>\n",
       "      <th>StreamingMovies</th>\n",
       "      <th>Contract</th>\n",
       "      <th>PaperlessBilling</th>\n",
       "      <th>PaymentMethod</th>\n",
       "      <th>MonthlyCharges</th>\n",
       "      <th>TotalCharges</th>\n",
       "      <th>Churn</th>\n",
       "    </tr>\n",
       "  </thead>\n",
       "  <tbody>\n",
       "    <tr>\n",
       "      <th>0</th>\n",
       "      <td>7590VHVEG</td>\n",
       "      <td>Female</td>\n",
       "      <td>0</td>\n",
       "      <td>Yes</td>\n",
       "      <td>No</td>\n",
       "      <td>1</td>\n",
       "      <td>No</td>\n",
       "      <td>Nophoneservice</td>\n",
       "      <td>DSL</td>\n",
       "      <td>No</td>\n",
       "      <td>...</td>\n",
       "      <td>No</td>\n",
       "      <td>No</td>\n",
       "      <td>No</td>\n",
       "      <td>No</td>\n",
       "      <td>Monthtomonth</td>\n",
       "      <td>Yes</td>\n",
       "      <td>Electroniccheck</td>\n",
       "      <td>29.85</td>\n",
       "      <td>29.85</td>\n",
       "      <td>No</td>\n",
       "    </tr>\n",
       "    <tr>\n",
       "      <th>1</th>\n",
       "      <td>5575GNVDE</td>\n",
       "      <td>Male</td>\n",
       "      <td>0</td>\n",
       "      <td>No</td>\n",
       "      <td>No</td>\n",
       "      <td>34</td>\n",
       "      <td>Yes</td>\n",
       "      <td>No</td>\n",
       "      <td>DSL</td>\n",
       "      <td>Yes</td>\n",
       "      <td>...</td>\n",
       "      <td>Yes</td>\n",
       "      <td>No</td>\n",
       "      <td>No</td>\n",
       "      <td>No</td>\n",
       "      <td>Oneyear</td>\n",
       "      <td>No</td>\n",
       "      <td>Mailedcheck</td>\n",
       "      <td>56.95</td>\n",
       "      <td>1889.50</td>\n",
       "      <td>No</td>\n",
       "    </tr>\n",
       "    <tr>\n",
       "      <th>2</th>\n",
       "      <td>3668QPYBK</td>\n",
       "      <td>Male</td>\n",
       "      <td>0</td>\n",
       "      <td>No</td>\n",
       "      <td>No</td>\n",
       "      <td>2</td>\n",
       "      <td>Yes</td>\n",
       "      <td>No</td>\n",
       "      <td>DSL</td>\n",
       "      <td>Yes</td>\n",
       "      <td>...</td>\n",
       "      <td>No</td>\n",
       "      <td>No</td>\n",
       "      <td>No</td>\n",
       "      <td>No</td>\n",
       "      <td>Monthtomonth</td>\n",
       "      <td>Yes</td>\n",
       "      <td>Mailedcheck</td>\n",
       "      <td>53.85</td>\n",
       "      <td>108.15</td>\n",
       "      <td>Yes</td>\n",
       "    </tr>\n",
       "    <tr>\n",
       "      <th>3</th>\n",
       "      <td>7795CFOCW</td>\n",
       "      <td>Male</td>\n",
       "      <td>0</td>\n",
       "      <td>No</td>\n",
       "      <td>No</td>\n",
       "      <td>45</td>\n",
       "      <td>No</td>\n",
       "      <td>Nophoneservice</td>\n",
       "      <td>DSL</td>\n",
       "      <td>Yes</td>\n",
       "      <td>...</td>\n",
       "      <td>Yes</td>\n",
       "      <td>Yes</td>\n",
       "      <td>No</td>\n",
       "      <td>No</td>\n",
       "      <td>Oneyear</td>\n",
       "      <td>No</td>\n",
       "      <td>Banktransfer(automatic)</td>\n",
       "      <td>42.30</td>\n",
       "      <td>1840.75</td>\n",
       "      <td>No</td>\n",
       "    </tr>\n",
       "    <tr>\n",
       "      <th>4</th>\n",
       "      <td>9237HQITU</td>\n",
       "      <td>Female</td>\n",
       "      <td>0</td>\n",
       "      <td>No</td>\n",
       "      <td>No</td>\n",
       "      <td>2</td>\n",
       "      <td>Yes</td>\n",
       "      <td>No</td>\n",
       "      <td>Fiberoptic</td>\n",
       "      <td>No</td>\n",
       "      <td>...</td>\n",
       "      <td>No</td>\n",
       "      <td>No</td>\n",
       "      <td>No</td>\n",
       "      <td>No</td>\n",
       "      <td>Monthtomonth</td>\n",
       "      <td>Yes</td>\n",
       "      <td>Electroniccheck</td>\n",
       "      <td>70.70</td>\n",
       "      <td>151.65</td>\n",
       "      <td>Yes</td>\n",
       "    </tr>\n",
       "  </tbody>\n",
       "</table>\n",
       "<p>5 rows × 21 columns</p>\n",
       "</div>"
      ],
      "text/plain": [
       "  customerID  gender  SeniorCitizen Partner Dependents  tenure PhoneService  \\\n",
       "0  7590VHVEG  Female              0     Yes         No       1           No   \n",
       "1  5575GNVDE    Male              0      No         No      34          Yes   \n",
       "2  3668QPYBK    Male              0      No         No       2          Yes   \n",
       "3  7795CFOCW    Male              0      No         No      45           No   \n",
       "4  9237HQITU  Female              0      No         No       2          Yes   \n",
       "\n",
       "    MultipleLines InternetService OnlineSecurity  ...   DeviceProtection  \\\n",
       "0  Nophoneservice             DSL             No  ...                 No   \n",
       "1              No             DSL            Yes  ...                Yes   \n",
       "2              No             DSL            Yes  ...                 No   \n",
       "3  Nophoneservice             DSL            Yes  ...                Yes   \n",
       "4              No      Fiberoptic             No  ...                 No   \n",
       "\n",
       "  TechSupport StreamingTV StreamingMovies      Contract PaperlessBilling  \\\n",
       "0          No          No              No  Monthtomonth              Yes   \n",
       "1          No          No              No       Oneyear               No   \n",
       "2          No          No              No  Monthtomonth              Yes   \n",
       "3         Yes          No              No       Oneyear               No   \n",
       "4          No          No              No  Monthtomonth              Yes   \n",
       "\n",
       "             PaymentMethod MonthlyCharges  TotalCharges  Churn  \n",
       "0          Electroniccheck          29.85         29.85     No  \n",
       "1              Mailedcheck          56.95       1889.50     No  \n",
       "2              Mailedcheck          53.85        108.15    Yes  \n",
       "3  Banktransfer(automatic)          42.30       1840.75     No  \n",
       "4          Electroniccheck          70.70        151.65    Yes  \n",
       "\n",
       "[5 rows x 21 columns]"
      ]
     },
     "execution_count": 2,
     "metadata": {},
     "output_type": "execute_result"
    }
   ],
   "source": [
    "df = pd.read_csv('Telco Customer Churn.csv')\n",
    "df.head()"
   ]
  },
  {
   "cell_type": "code",
   "execution_count": 3,
   "metadata": {},
   "outputs": [
    {
     "name": "stdout",
     "output_type": "stream",
     "text": [
      "(7043, 21)\n",
      "['customerID', 'gender', 'SeniorCitizen', 'Partner', 'Dependents', 'tenure', 'PhoneService', 'MultipleLines', 'InternetService', 'OnlineSecurity', 'OnlineBackup', 'DeviceProtection', 'TechSupport', 'StreamingTV', 'StreamingMovies', 'Contract', 'PaperlessBilling', 'PaymentMethod', 'MonthlyCharges', 'TotalCharges', 'Churn']\n"
     ]
    }
   ],
   "source": [
    "df = pd.read_csv('Telco Customer Churn.csv',header=0)\n",
    "print(df.shape)\n",
    "print(list(df.columns))"
   ]
  },
  {
   "cell_type": "code",
   "execution_count": 4,
   "metadata": {},
   "outputs": [
    {
     "name": "stdout",
     "output_type": "stream",
     "text": [
      "<class 'pandas.core.frame.DataFrame'>\n",
      "RangeIndex: 7043 entries, 0 to 7042\n",
      "Data columns (total 21 columns):\n",
      "customerID          7043 non-null object\n",
      "gender              7043 non-null object\n",
      "SeniorCitizen       7043 non-null int64\n",
      "Partner             7043 non-null object\n",
      "Dependents          7043 non-null object\n",
      "tenure              7043 non-null int64\n",
      "PhoneService        7043 non-null object\n",
      "MultipleLines       7043 non-null object\n",
      "InternetService     7043 non-null object\n",
      "OnlineSecurity      7043 non-null object\n",
      "OnlineBackup        7043 non-null object\n",
      "DeviceProtection    7043 non-null object\n",
      "TechSupport         7043 non-null object\n",
      "StreamingTV         7043 non-null object\n",
      "StreamingMovies     7043 non-null object\n",
      "Contract            7043 non-null object\n",
      "PaperlessBilling    7043 non-null object\n",
      "PaymentMethod       7043 non-null object\n",
      "MonthlyCharges      7043 non-null float64\n",
      "TotalCharges        7032 non-null float64\n",
      "Churn               7043 non-null object\n",
      "dtypes: float64(2), int64(2), object(17)\n",
      "memory usage: 1.1+ MB\n"
     ]
    }
   ],
   "source": [
    "df.info()"
   ]
  },
  {
   "cell_type": "code",
   "execution_count": 5,
   "metadata": {},
   "outputs": [
    {
     "data": {
      "text/plain": [
       "No     5174\n",
       "Yes    1869\n",
       "Name: Churn, dtype: int64"
      ]
     },
     "execution_count": 5,
     "metadata": {},
     "output_type": "execute_result"
    }
   ],
   "source": [
    "df['Churn'].value_counts()"
   ]
  },
  {
   "cell_type": "code",
   "execution_count": 6,
   "metadata": {},
   "outputs": [
    {
     "data": {
      "text/plain": [
       "customerID           0\n",
       "gender               0\n",
       "SeniorCitizen        0\n",
       "Partner              0\n",
       "Dependents           0\n",
       "tenure               0\n",
       "PhoneService         0\n",
       "MultipleLines        0\n",
       "InternetService      0\n",
       "OnlineSecurity       0\n",
       "OnlineBackup         0\n",
       "DeviceProtection     0\n",
       "TechSupport          0\n",
       "StreamingTV          0\n",
       "StreamingMovies      0\n",
       "Contract             0\n",
       "PaperlessBilling     0\n",
       "PaymentMethod        0\n",
       "MonthlyCharges       0\n",
       "TotalCharges        11\n",
       "Churn                0\n",
       "dtype: int64"
      ]
     },
     "execution_count": 6,
     "metadata": {},
     "output_type": "execute_result"
    }
   ],
   "source": [
    "np.sum(df.isnull())"
   ]
  },
  {
   "cell_type": "code",
   "execution_count": 7,
   "metadata": {},
   "outputs": [
    {
     "data": {
      "text/plain": [
       "customerID           0\n",
       "gender               0\n",
       "SeniorCitizen        0\n",
       "Partner              0\n",
       "Dependents           0\n",
       "tenure               0\n",
       "PhoneService         0\n",
       "MultipleLines        0\n",
       "InternetService      0\n",
       "OnlineSecurity       0\n",
       "OnlineBackup         0\n",
       "DeviceProtection     0\n",
       "TechSupport          0\n",
       "StreamingTV          0\n",
       "StreamingMovies      0\n",
       "Contract             0\n",
       "PaperlessBilling     0\n",
       "PaymentMethod        0\n",
       "MonthlyCharges       0\n",
       "TotalCharges        11\n",
       "Churn                0\n",
       "dtype: int64"
      ]
     },
     "execution_count": 7,
     "metadata": {},
     "output_type": "execute_result"
    }
   ],
   "source": [
    "np.sum(df.isna())"
   ]
  },
  {
   "cell_type": "code",
   "execution_count": 8,
   "metadata": {},
   "outputs": [
    {
     "data": {
      "text/plain": [
       "customerID          0\n",
       "gender              0\n",
       "SeniorCitizen       0\n",
       "Partner             0\n",
       "Dependents          0\n",
       "tenure              0\n",
       "PhoneService        0\n",
       "MultipleLines       0\n",
       "InternetService     0\n",
       "OnlineSecurity      0\n",
       "OnlineBackup        0\n",
       "DeviceProtection    0\n",
       "TechSupport         0\n",
       "StreamingTV         0\n",
       "StreamingMovies     0\n",
       "Contract            0\n",
       "PaperlessBilling    0\n",
       "PaymentMethod       0\n",
       "MonthlyCharges      0\n",
       "TotalCharges        0\n",
       "Churn               0\n",
       "dtype: int64"
      ]
     },
     "execution_count": 8,
     "metadata": {},
     "output_type": "execute_result"
    }
   ],
   "source": [
    "from scipy.stats import mode\n",
    "for column in df.columns:\n",
    "    if(df[column].dtype == np.float64):\n",
    "        mean = np.mean(df[column])\n",
    "        df[column].fillna(mean, inplace=True)\n",
    "np.sum(df.isnull())"
   ]
  },
  {
   "cell_type": "code",
   "execution_count": 9,
   "metadata": {},
   "outputs": [
    {
     "name": "stderr",
     "output_type": "stream",
     "text": [
      "C:\\ProgramData\\Anaconda3\\lib\\site-packages\\scipy\\stats\\stats.py:245: RuntimeWarning: The input array could not be properly checked for nan values. nan values will be ignored.\n",
      "  \"values. nan values will be ignored.\", RuntimeWarning)\n"
     ]
    },
    {
     "data": {
      "text/plain": [
       "customerID          0\n",
       "gender              0\n",
       "SeniorCitizen       0\n",
       "Partner             0\n",
       "Dependents          0\n",
       "tenure              0\n",
       "PhoneService        0\n",
       "MultipleLines       0\n",
       "InternetService     0\n",
       "OnlineSecurity      0\n",
       "OnlineBackup        0\n",
       "DeviceProtection    0\n",
       "TechSupport         0\n",
       "StreamingTV         0\n",
       "StreamingMovies     0\n",
       "Contract            0\n",
       "PaperlessBilling    0\n",
       "PaymentMethod       0\n",
       "MonthlyCharges      0\n",
       "TotalCharges        0\n",
       "Churn               0\n",
       "dtype: int64"
      ]
     },
     "execution_count": 9,
     "metadata": {},
     "output_type": "execute_result"
    }
   ],
   "source": [
    "from scipy.stats import mode\n",
    "for column in df.columns:\n",
    "    if(df[column].dtype == np.object):\n",
    "        modus = mode(df[column])\n",
    "        df[column].fillna(modus.mode[0], inplace=True)\n",
    "np.sum(df.isna())"
   ]
  },
  {
   "cell_type": "code",
   "execution_count": 10,
   "metadata": {},
   "outputs": [
    {
     "data": {
      "text/html": [
       "<div>\n",
       "<style scoped>\n",
       "    .dataframe tbody tr th:only-of-type {\n",
       "        vertical-align: middle;\n",
       "    }\n",
       "\n",
       "    .dataframe tbody tr th {\n",
       "        vertical-align: top;\n",
       "    }\n",
       "\n",
       "    .dataframe thead th {\n",
       "        text-align: right;\n",
       "    }\n",
       "</style>\n",
       "<table border=\"1\" class=\"dataframe\">\n",
       "  <thead>\n",
       "    <tr style=\"text-align: right;\">\n",
       "      <th></th>\n",
       "      <th>SeniorCitizen</th>\n",
       "      <th>tenure</th>\n",
       "      <th>MonthlyCharges</th>\n",
       "      <th>TotalCharges</th>\n",
       "    </tr>\n",
       "    <tr>\n",
       "      <th>Churn</th>\n",
       "      <th></th>\n",
       "      <th></th>\n",
       "      <th></th>\n",
       "      <th></th>\n",
       "    </tr>\n",
       "  </thead>\n",
       "  <tbody>\n",
       "    <tr>\n",
       "      <th>No</th>\n",
       "      <td>0.128721</td>\n",
       "      <td>37.569965</td>\n",
       "      <td>61.265124</td>\n",
       "      <td>2554.765772</td>\n",
       "    </tr>\n",
       "    <tr>\n",
       "      <th>Yes</th>\n",
       "      <td>0.254682</td>\n",
       "      <td>17.979133</td>\n",
       "      <td>74.441332</td>\n",
       "      <td>1531.796094</td>\n",
       "    </tr>\n",
       "  </tbody>\n",
       "</table>\n",
       "</div>"
      ],
      "text/plain": [
       "       SeniorCitizen     tenure  MonthlyCharges  TotalCharges\n",
       "Churn                                                        \n",
       "No          0.128721  37.569965       61.265124   2554.765772\n",
       "Yes         0.254682  17.979133       74.441332   1531.796094"
      ]
     },
     "execution_count": 10,
     "metadata": {},
     "output_type": "execute_result"
    }
   ],
   "source": [
    "df.groupby('Churn').mean()"
   ]
  },
  {
   "cell_type": "code",
   "execution_count": 11,
   "metadata": {},
   "outputs": [
    {
     "data": {
      "image/png": "[encoded data removed]",
      "text/plain": [
       "<Figure size 432x288 with 1 Axes>"
      ]
     },
     "metadata": {},
     "output_type": "display_data"
    }
   ],
   "source": [
    "sns.countplot(x='Churn', data=df)\n",
    "plt.show()"
   ]
  },
  {
   "cell_type": "code",
   "execution_count": 12,
   "metadata": {},
   "outputs": [
    {
     "data": {
      "text/plain": [
       "<matplotlib.axes._subplots.AxesSubplot at 0x26ae26d2940>"
      ]
     },
     "execution_count": 12,
     "metadata": {},
     "output_type": "execute_result"
    },
    {
     "data": {
      "image/png": "[encoded data removed]",
      "text/plain": [
       "<Figure size 432x288 with 1 Axes>"
      ]
     },
     "metadata": {},
     "output_type": "display_data"
    }
   ],
   "source": [
    "df['gender'].value_counts().plot(kind=\"bar\")"
   ]
  },
  {
   "cell_type": "code",
   "execution_count": 13,
   "metadata": {},
   "outputs": [
    {
     "data": {
      "text/plain": [
       "<matplotlib.axes._subplots.AxesSubplot at 0x26ae2839d30>"
      ]
     },
     "execution_count": 13,
     "metadata": {},
     "output_type": "execute_result"
    },
    {
     "data": {
      "image/png": "[encoded data removed]",
      "text/plain": [
       "<Figure size 432x288 with 1 Axes>"
      ]
     },
     "metadata": {},
     "output_type": "display_data"
    }
   ],
   "source": [
    "df['StreamingTV'].value_counts().plot(kind=\"pie\")"
   ]
  },
  {
   "cell_type": "code",
   "execution_count": 14,
   "metadata": {},
   "outputs": [
    {
     "data": {
      "image/png": "[encoded data removed]",
      "text/plain": [
       "<Figure size 720x360 with 1 Axes>"
      ]
     },
     "metadata": {},
     "output_type": "display_data"
    }
   ],
   "source": [
    "pd.crosstab(df['Churn'], df['gender'], rownames=['Churn'], colnames=['gender']).plot(kind=\"bar\", figsize=(10,5))\n",
    "plt.show()"
   ]
  },
  {
   "cell_type": "code",
   "execution_count": 15,
   "metadata": {},
   "outputs": [
    {
     "data": {
      "image/png": "[encoded data removed]",
      "text/plain": [
       "<Figure size 720x360 with 1 Axes>"
      ]
     },
     "metadata": {},
     "output_type": "display_data"
    }
   ],
   "source": [
    "pd.crosstab(df['Churn'],df['StreamingTV'], rownames=['Churn'], colnames=['Stream']).plot(kind='bar',figsize=(10,5))\n",
    "plt.show()"
   ]
  },
  {
   "cell_type": "code",
   "execution_count": 16,
   "metadata": {},
   "outputs": [
    {
     "data": {
      "image/png": "[encoded data removed]",
      "text/plain": [
       "<Figure size 720x360 with 1 Axes>"
      ]
     },
     "metadata": {},
     "output_type": "display_data"
    }
   ],
   "source": [
    "pd.crosstab(df['Churn'],df['Partner'], rownames=['Churn'], colnames=['Partner']).plot(kind='bar',figsize=(10,5))\n",
    "plt.show()"
   ]
  },
  {
   "cell_type": "code",
   "execution_count": 17,
   "metadata": {},
   "outputs": [
    {
     "data": {
      "text/html": [
       "<div>\n",
       "<style scoped>\n",
       "    .dataframe tbody tr th:only-of-type {\n",
       "        vertical-align: middle;\n",
       "    }\n",
       "\n",
       "    .dataframe tbody tr th {\n",
       "        vertical-align: top;\n",
       "    }\n",
       "\n",
       "    .dataframe thead th {\n",
       "        text-align: right;\n",
       "    }\n",
       "</style>\n",
       "<table border=\"1\" class=\"dataframe\">\n",
       "  <thead>\n",
       "    <tr style=\"text-align: right;\">\n",
       "      <th></th>\n",
       "      <th>gender</th>\n",
       "      <th>SeniorCitizen</th>\n",
       "      <th>Partner</th>\n",
       "      <th>Dependents</th>\n",
       "      <th>tenure</th>\n",
       "      <th>PhoneService</th>\n",
       "      <th>MultipleLines</th>\n",
       "      <th>InternetService</th>\n",
       "      <th>OnlineSecurity</th>\n",
       "      <th>OnlineBackup</th>\n",
       "      <th>DeviceProtection</th>\n",
       "      <th>TechSupport</th>\n",
       "      <th>StreamingTV</th>\n",
       "      <th>StreamingMovies</th>\n",
       "      <th>Contract</th>\n",
       "      <th>PaperlessBilling</th>\n",
       "      <th>PaymentMethod</th>\n",
       "      <th>MonthlyCharges</th>\n",
       "      <th>TotalCharges</th>\n",
       "      <th>Churn</th>\n",
       "    </tr>\n",
       "  </thead>\n",
       "  <tbody>\n",
       "    <tr>\n",
       "      <th>0</th>\n",
       "      <td>Female</td>\n",
       "      <td>0</td>\n",
       "      <td>Yes</td>\n",
       "      <td>No</td>\n",
       "      <td>1</td>\n",
       "      <td>No</td>\n",
       "      <td>Nophoneservice</td>\n",
       "      <td>DSL</td>\n",
       "      <td>No</td>\n",
       "      <td>Yes</td>\n",
       "      <td>No</td>\n",
       "      <td>No</td>\n",
       "      <td>No</td>\n",
       "      <td>No</td>\n",
       "      <td>Monthtomonth</td>\n",
       "      <td>Yes</td>\n",
       "      <td>Electroniccheck</td>\n",
       "      <td>29.85</td>\n",
       "      <td>29.85</td>\n",
       "      <td>No</td>\n",
       "    </tr>\n",
       "    <tr>\n",
       "      <th>1</th>\n",
       "      <td>Male</td>\n",
       "      <td>0</td>\n",
       "      <td>No</td>\n",
       "      <td>No</td>\n",
       "      <td>34</td>\n",
       "      <td>Yes</td>\n",
       "      <td>No</td>\n",
       "      <td>DSL</td>\n",
       "      <td>Yes</td>\n",
       "      <td>No</td>\n",
       "      <td>Yes</td>\n",
       "      <td>No</td>\n",
       "      <td>No</td>\n",
       "      <td>No</td>\n",
       "      <td>Oneyear</td>\n",
       "      <td>No</td>\n",
       "      <td>Mailedcheck</td>\n",
       "      <td>56.95</td>\n",
       "      <td>1889.50</td>\n",
       "      <td>No</td>\n",
       "    </tr>\n",
       "    <tr>\n",
       "      <th>2</th>\n",
       "      <td>Male</td>\n",
       "      <td>0</td>\n",
       "      <td>No</td>\n",
       "      <td>No</td>\n",
       "      <td>2</td>\n",
       "      <td>Yes</td>\n",
       "      <td>No</td>\n",
       "      <td>DSL</td>\n",
       "      <td>Yes</td>\n",
       "      <td>Yes</td>\n",
       "      <td>No</td>\n",
       "      <td>No</td>\n",
       "      <td>No</td>\n",
       "      <td>No</td>\n",
       "      <td>Monthtomonth</td>\n",
       "      <td>Yes</td>\n",
       "      <td>Mailedcheck</td>\n",
       "      <td>53.85</td>\n",
       "      <td>108.15</td>\n",
       "      <td>Yes</td>\n",
       "    </tr>\n",
       "    <tr>\n",
       "      <th>3</th>\n",
       "      <td>Male</td>\n",
       "      <td>0</td>\n",
       "      <td>No</td>\n",
       "      <td>No</td>\n",
       "      <td>45</td>\n",
       "      <td>No</td>\n",
       "      <td>Nophoneservice</td>\n",
       "      <td>DSL</td>\n",
       "      <td>Yes</td>\n",
       "      <td>No</td>\n",
       "      <td>Yes</td>\n",
       "      <td>Yes</td>\n",
       "      <td>No</td>\n",
       "      <td>No</td>\n",
       "      <td>Oneyear</td>\n",
       "      <td>No</td>\n",
       "      <td>Banktransfer(automatic)</td>\n",
       "      <td>42.30</td>\n",
       "      <td>1840.75</td>\n",
       "      <td>No</td>\n",
       "    </tr>\n",
       "    <tr>\n",
       "      <th>4</th>\n",
       "      <td>Female</td>\n",
       "      <td>0</td>\n",
       "      <td>No</td>\n",
       "      <td>No</td>\n",
       "      <td>2</td>\n",
       "      <td>Yes</td>\n",
       "      <td>No</td>\n",
       "      <td>Fiberoptic</td>\n",
       "      <td>No</td>\n",
       "      <td>No</td>\n",
       "      <td>No</td>\n",
       "      <td>No</td>\n",
       "      <td>No</td>\n",
       "      <td>No</td>\n",
       "      <td>Monthtomonth</td>\n",
       "      <td>Yes</td>\n",
       "      <td>Electroniccheck</td>\n",
       "      <td>70.70</td>\n",
       "      <td>151.65</td>\n",
       "      <td>Yes</td>\n",
       "    </tr>\n",
       "  </tbody>\n",
       "</table>\n",
       "</div>"
      ],
      "text/plain": [
       "   gender  SeniorCitizen Partner Dependents  tenure PhoneService  \\\n",
       "0  Female              0     Yes         No       1           No   \n",
       "1    Male              0      No         No      34          Yes   \n",
       "2    Male              0      No         No       2          Yes   \n",
       "3    Male              0      No         No      45           No   \n",
       "4  Female              0      No         No       2          Yes   \n",
       "\n",
       "    MultipleLines InternetService OnlineSecurity OnlineBackup  \\\n",
       "0  Nophoneservice             DSL             No          Yes   \n",
       "1              No             DSL            Yes           No   \n",
       "2              No             DSL            Yes          Yes   \n",
       "3  Nophoneservice             DSL            Yes           No   \n",
       "4              No      Fiberoptic             No           No   \n",
       "\n",
       "  DeviceProtection TechSupport StreamingTV StreamingMovies      Contract  \\\n",
       "0               No          No          No              No  Monthtomonth   \n",
       "1              Yes          No          No              No       Oneyear   \n",
       "2               No          No          No              No  Monthtomonth   \n",
       "3              Yes         Yes          No              No       Oneyear   \n",
       "4               No          No          No              No  Monthtomonth   \n",
       "\n",
       "  PaperlessBilling            PaymentMethod  MonthlyCharges  TotalCharges  \\\n",
       "0              Yes          Electroniccheck           29.85         29.85   \n",
       "1               No              Mailedcheck           56.95       1889.50   \n",
       "2              Yes              Mailedcheck           53.85        108.15   \n",
       "3               No  Banktransfer(automatic)           42.30       1840.75   \n",
       "4              Yes          Electroniccheck           70.70        151.65   \n",
       "\n",
       "  Churn  \n",
       "0    No  \n",
       "1    No  \n",
       "2   Yes  \n",
       "3    No  \n",
       "4   Yes  "
      ]
     },
     "execution_count": 17,
     "metadata": {},
     "output_type": "execute_result"
    }
   ],
   "source": [
    "new_df = df.drop(df.columns[[0]], axis=1)\n",
    "new_df.head()"
   ]
  },
  {
   "cell_type": "code",
   "execution_count": 18,
   "metadata": {},
   "outputs": [
    {
     "name": "stdout",
     "output_type": "stream",
     "text": [
      "['gender', 'SeniorCitizen', 'Partner', 'Dependents', 'tenure', 'PhoneService', 'MultipleLines', 'InternetService', 'OnlineSecurity', 'OnlineBackup', 'DeviceProtection', 'TechSupport', 'StreamingTV', 'StreamingMovies', 'Contract', 'PaperlessBilling', 'PaymentMethod', 'MonthlyCharges', 'TotalCharges', 'Churn']\n"
     ]
    }
   ],
   "source": [
    "print(list(new_df.columns))"
   ]
  },
  {
   "cell_type": "code",
   "execution_count": 38,
   "metadata": {},
   "outputs": [],
   "source": [
    "dummy_y = pd.get_dummies(new_df['Churn'], prefix='Churn')\n",
    "df = new_df.join(dummy_y.loc[:, 'Churn_Yes':])"
   ]
  },
  {
   "cell_type": "code",
   "execution_count": null,
   "metadata": {},
   "outputs": [],
   "source": []
  },
  {
   "cell_type": "code",
   "execution_count": 40,
   "metadata": {},
   "outputs": [
    {
     "data": {
      "text/html": [
       "<div>\n",
       "<style scoped>\n",
       "    .dataframe tbody tr th:only-of-type {\n",
       "        vertical-align: middle;\n",
       "    }\n",
       "\n",
       "    .dataframe tbody tr th {\n",
       "        vertical-align: top;\n",
       "    }\n",
       "\n",
       "    .dataframe thead th {\n",
       "        text-align: right;\n",
       "    }\n",
       "</style>\n",
       "<table border=\"1\" class=\"dataframe\">\n",
       "  <thead>\n",
       "    <tr style=\"text-align: right;\">\n",
       "      <th></th>\n",
       "      <th>gender</th>\n",
       "      <th>SeniorCitizen</th>\n",
       "      <th>Partner</th>\n",
       "      <th>Dependents</th>\n",
       "      <th>tenure</th>\n",
       "      <th>PhoneService</th>\n",
       "      <th>MultipleLines</th>\n",
       "      <th>InternetService</th>\n",
       "      <th>OnlineSecurity</th>\n",
       "      <th>OnlineBackup</th>\n",
       "      <th>DeviceProtection</th>\n",
       "      <th>TechSupport</th>\n",
       "      <th>StreamingTV</th>\n",
       "      <th>StreamingMovies</th>\n",
       "      <th>Contract</th>\n",
       "      <th>PaperlessBilling</th>\n",
       "      <th>PaymentMethod</th>\n",
       "      <th>MonthlyCharges</th>\n",
       "      <th>TotalCharges</th>\n",
       "    </tr>\n",
       "  </thead>\n",
       "  <tbody>\n",
       "    <tr>\n",
       "      <th>0</th>\n",
       "      <td>Female</td>\n",
       "      <td>0</td>\n",
       "      <td>Yes</td>\n",
       "      <td>No</td>\n",
       "      <td>1</td>\n",
       "      <td>No</td>\n",
       "      <td>Nophoneservice</td>\n",
       "      <td>DSL</td>\n",
       "      <td>No</td>\n",
       "      <td>Yes</td>\n",
       "      <td>No</td>\n",
       "      <td>No</td>\n",
       "      <td>No</td>\n",
       "      <td>No</td>\n",
       "      <td>Monthtomonth</td>\n",
       "      <td>Yes</td>\n",
       "      <td>Electroniccheck</td>\n",
       "      <td>29.85</td>\n",
       "      <td>29.85</td>\n",
       "    </tr>\n",
       "    <tr>\n",
       "      <th>1</th>\n",
       "      <td>Male</td>\n",
       "      <td>0</td>\n",
       "      <td>No</td>\n",
       "      <td>No</td>\n",
       "      <td>34</td>\n",
       "      <td>Yes</td>\n",
       "      <td>No</td>\n",
       "      <td>DSL</td>\n",
       "      <td>Yes</td>\n",
       "      <td>No</td>\n",
       "      <td>Yes</td>\n",
       "      <td>No</td>\n",
       "      <td>No</td>\n",
       "      <td>No</td>\n",
       "      <td>Oneyear</td>\n",
       "      <td>No</td>\n",
       "      <td>Mailedcheck</td>\n",
       "      <td>56.95</td>\n",
       "      <td>1889.50</td>\n",
       "    </tr>\n",
       "    <tr>\n",
       "      <th>2</th>\n",
       "      <td>Male</td>\n",
       "      <td>0</td>\n",
       "      <td>No</td>\n",
       "      <td>No</td>\n",
       "      <td>2</td>\n",
       "      <td>Yes</td>\n",
       "      <td>No</td>\n",
       "      <td>DSL</td>\n",
       "      <td>Yes</td>\n",
       "      <td>Yes</td>\n",
       "      <td>No</td>\n",
       "      <td>No</td>\n",
       "      <td>No</td>\n",
       "      <td>No</td>\n",
       "      <td>Monthtomonth</td>\n",
       "      <td>Yes</td>\n",
       "      <td>Mailedcheck</td>\n",
       "      <td>53.85</td>\n",
       "      <td>108.15</td>\n",
       "    </tr>\n",
       "    <tr>\n",
       "      <th>3</th>\n",
       "      <td>Male</td>\n",
       "      <td>0</td>\n",
       "      <td>No</td>\n",
       "      <td>No</td>\n",
       "      <td>45</td>\n",
       "      <td>No</td>\n",
       "      <td>Nophoneservice</td>\n",
       "      <td>DSL</td>\n",
       "      <td>Yes</td>\n",
       "      <td>No</td>\n",
       "      <td>Yes</td>\n",
       "      <td>Yes</td>\n",
       "      <td>No</td>\n",
       "      <td>No</td>\n",
       "      <td>Oneyear</td>\n",
       "      <td>No</td>\n",
       "      <td>Banktransfer(automatic)</td>\n",
       "      <td>42.30</td>\n",
       "      <td>1840.75</td>\n",
       "    </tr>\n",
       "    <tr>\n",
       "      <th>4</th>\n",
       "      <td>Female</td>\n",
       "      <td>0</td>\n",
       "      <td>No</td>\n",
       "      <td>No</td>\n",
       "      <td>2</td>\n",
       "      <td>Yes</td>\n",
       "      <td>No</td>\n",
       "      <td>Fiberoptic</td>\n",
       "      <td>No</td>\n",
       "      <td>No</td>\n",
       "      <td>No</td>\n",
       "      <td>No</td>\n",
       "      <td>No</td>\n",
       "      <td>No</td>\n",
       "      <td>Monthtomonth</td>\n",
       "      <td>Yes</td>\n",
       "      <td>Electroniccheck</td>\n",
       "      <td>70.70</td>\n",
       "      <td>151.65</td>\n",
       "    </tr>\n",
       "  </tbody>\n",
       "</table>\n",
       "</div>"
      ],
      "text/plain": [
       "   gender  SeniorCitizen Partner Dependents  tenure PhoneService  \\\n",
       "0  Female              0     Yes         No       1           No   \n",
       "1    Male              0      No         No      34          Yes   \n",
       "2    Male              0      No         No       2          Yes   \n",
       "3    Male              0      No         No      45           No   \n",
       "4  Female              0      No         No       2          Yes   \n",
       "\n",
       "    MultipleLines InternetService OnlineSecurity OnlineBackup  \\\n",
       "0  Nophoneservice             DSL             No          Yes   \n",
       "1              No             DSL            Yes           No   \n",
       "2              No             DSL            Yes          Yes   \n",
       "3  Nophoneservice             DSL            Yes           No   \n",
       "4              No      Fiberoptic             No           No   \n",
       "\n",
       "  DeviceProtection TechSupport StreamingTV StreamingMovies      Contract  \\\n",
       "0               No          No          No              No  Monthtomonth   \n",
       "1              Yes          No          No              No       Oneyear   \n",
       "2               No          No          No              No  Monthtomonth   \n",
       "3              Yes         Yes          No              No       Oneyear   \n",
       "4               No          No          No              No  Monthtomonth   \n",
       "\n",
       "  PaperlessBilling            PaymentMethod  MonthlyCharges  TotalCharges  \n",
       "0              Yes          Electroniccheck           29.85         29.85  \n",
       "1               No              Mailedcheck           56.95       1889.50  \n",
       "2              Yes              Mailedcheck           53.85        108.15  \n",
       "3               No  Banktransfer(automatic)           42.30       1840.75  \n",
       "4              Yes          Electroniccheck           70.70        151.65  "
      ]
     },
     "execution_count": 40,
     "metadata": {},
     "output_type": "execute_result"
    }
   ],
   "source": [
    "df=df.drop(df.columns[[19]],axis=1)\n",
    "df.head()"
   ]
  },
  {
   "cell_type": "code",
   "execution_count": null,
   "metadata": {},
   "outputs": [],
   "source": []
  },
  {
   "cell_type": "code",
   "execution_count": null,
   "metadata": {},
   "outputs": [],
   "source": []
  },
  {
   "cell_type": "code",
   "execution_count": null,
   "metadata": {},
   "outputs": [],
   "source": []
  },
  {
   "cell_type": "code",
   "execution_count": null,
   "metadata": {},
   "outputs": [],
   "source": []
  },
  {
   "cell_type": "code",
   "execution_count": 21,
   "metadata": {},
   "outputs": [
    {
     "data": {
      "text/plain": [
       "<seaborn.axisgrid.FacetGrid at 0x26ae2900c18>"
      ]
     },
     "execution_count": 21,
     "metadata": {},
     "output_type": "execute_result"
    },
    {
     "data": {
      "image/png": "[encoded data removed]",
      "text/plain": [
       "<Figure size 420.484x360 with 1 Axes>"
      ]
     },
     "metadata": {},
     "output_type": "display_data"
    }
   ],
   "source": [
    "sns.lmplot(x='tenure', y='TotalCharges', hue='Churn_Yes', fit_reg=False, data=df)"
   ]
  },
  {
   "cell_type": "code",
   "execution_count": null,
   "metadata": {},
   "outputs": [],
   "source": []
  },
  {
   "cell_type": "code",
   "execution_count": null,
   "metadata": {},
   "outputs": [],
   "source": []
  },
  {
   "cell_type": "code",
   "execution_count": 22,
   "metadata": {},
   "outputs": [
    {
     "data": {
      "text/plain": [
       "array(['tenure', 'MonthlyCharges', 'TotalCharges', 'Churn_Yes',\n",
       "       'gender_Female', 'gender_Male', 'SeniorCitizen_0',\n",
       "       'SeniorCitizen_1', 'Partner_No', 'Partner_Yes', 'Dependents_No',\n",
       "       'Dependents_Yes', 'PhoneService_No', 'PhoneService_Yes',\n",
       "       'MultipleLines_No', 'MultipleLines_Nophoneservice',\n",
       "       'MultipleLines_Yes', 'InternetService_DSL',\n",
       "       'InternetService_Fiberoptic', 'InternetService_No',\n",
       "       'OnlineSecurity_No', 'OnlineSecurity_Nointernetservice',\n",
       "       'OnlineSecurity_Yes', 'OnlineBackup_No',\n",
       "       'OnlineBackup_Nointernetservice', 'OnlineBackup_Yes',\n",
       "       'DeviceProtection_No', 'DeviceProtection_Nointernetservice',\n",
       "       'DeviceProtection_Yes', 'TechSupport_No',\n",
       "       'TechSupport_Nointernetservice', 'TechSupport_Yes',\n",
       "       'StreamingTV_No', 'StreamingTV_Nointernetservice',\n",
       "       'StreamingTV_Yes', 'StreamingMovies_No',\n",
       "       'StreamingMovies_Nointernetservice', 'StreamingMovies_Yes',\n",
       "       'Contract_Monthtomonth', 'Contract_Oneyear', 'Contract_Twoyear',\n",
       "       'PaperlessBilling_No', 'PaperlessBilling_Yes',\n",
       "       'PaymentMethod_Banktransfer(automatic)',\n",
       "       'PaymentMethod_Creditcard(automatic)',\n",
       "       'PaymentMethod_Electroniccheck', 'PaymentMethod_Mailedcheck'],\n",
       "      dtype=object)"
      ]
     },
     "execution_count": 22,
     "metadata": {},
     "output_type": "execute_result"
    }
   ],
   "source": [
    "cat_vars=['gender', 'SeniorCitizen', 'Partner', 'Dependents', 'PhoneService',\n",
    "          'MultipleLines', 'InternetService', 'OnlineSecurity', 'OnlineBackup', 'DeviceProtection', \n",
    "          'TechSupport', 'StreamingTV', 'StreamingMovies', 'Contract', 'PaperlessBilling', 'PaymentMethod']\n",
    "for var in cat_vars:\n",
    "    cat_list='var'+'_'+var\n",
    "    cat_list = pd.get_dummies(df[var], prefix=var)\n",
    "    data1=df.join(cat_list)\n",
    "    df=data1\n",
    "\n",
    "data_vars=df.columns.values.tolist()\n",
    "to_keep=[i for i in data_vars if i not in cat_vars]\n",
    "data_final=df[to_keep]\n",
    "data_final.columns.values"
   ]
  },
  {
   "cell_type": "code",
   "execution_count": 23,
   "metadata": {},
   "outputs": [
    {
     "data": {
      "text/plain": [
       "array(['tenure', 'MonthlyCharges', 'TotalCharges', 'Churn_Yes',\n",
       "       'gender_Female', 'SeniorCitizen_1', 'Partner_Yes',\n",
       "       'Dependents_Yes', 'PhoneService_Yes',\n",
       "       'MultipleLines_Nophoneservice', 'MultipleLines_Yes',\n",
       "       'InternetService_Fiberoptic', 'InternetService_No',\n",
       "       'OnlineSecurity_Nointernetservice', 'OnlineSecurity_Yes',\n",
       "       'OnlineBackup_Nointernetservice', 'OnlineBackup_Yes',\n",
       "       'DeviceProtection_Nointernetservice', 'DeviceProtection_Yes',\n",
       "       'TechSupport_Nointernetservice', 'TechSupport_Yes',\n",
       "       'StreamingTV_Nointernetservice', 'StreamingTV_Yes',\n",
       "       'StreamingMovies_Nointernetservice', 'StreamingMovies_Yes',\n",
       "       'Contract_Oneyear', 'Contract_Twoyear', 'PaperlessBilling_Yes',\n",
       "       'PaymentMethod_Creditcard(automatic)',\n",
       "       'PaymentMethod_Electroniccheck', 'PaymentMethod_Mailedcheck'],\n",
       "      dtype=object)"
      ]
     },
     "execution_count": 23,
     "metadata": {},
     "output_type": "execute_result"
    }
   ],
   "source": [
    "data_final=data_final.drop(['gender_Male','SeniorCitizen_0','Partner_No','Dependents_No','PhoneService_No','MultipleLines_No',\n",
    "                           'InternetService_DSL','OnlineSecurity_No','OnlineBackup_No','DeviceProtection_No','TechSupport_No',\n",
    "                           'StreamingTV_No', 'StreamingMovies_No','Contract_Monthtomonth','PaperlessBilling_No',\n",
    "                            'PaymentMethod_Banktransfer(automatic)'], axis=1)\n",
    "data_final.columns.values"
   ]
  },
  {
   "cell_type": "code",
   "execution_count": 24,
   "metadata": {},
   "outputs": [
    {
     "name": "stdout",
     "output_type": "stream",
     "text": [
      "<class 'pandas.core.frame.DataFrame'>\n",
      "RangeIndex: 7043 entries, 0 to 7042\n",
      "Data columns (total 31 columns):\n",
      "tenure                                 7043 non-null int64\n",
      "MonthlyCharges                         7043 non-null float64\n",
      "TotalCharges                           7043 non-null float64\n",
      "Churn_Yes                              7043 non-null uint8\n",
      "gender_Female                          7043 non-null uint8\n",
      "SeniorCitizen_1                        7043 non-null uint8\n",
      "Partner_Yes                            7043 non-null uint8\n",
      "Dependents_Yes                         7043 non-null uint8\n",
      "PhoneService_Yes                       7043 non-null uint8\n",
      "MultipleLines_Nophoneservice           7043 non-null uint8\n",
      "MultipleLines_Yes                      7043 non-null uint8\n",
      "InternetService_Fiberoptic             7043 non-null uint8\n",
      "InternetService_No                     7043 non-null uint8\n",
      "OnlineSecurity_Nointernetservice       7043 non-null uint8\n",
      "OnlineSecurity_Yes                     7043 non-null uint8\n",
      "OnlineBackup_Nointernetservice         7043 non-null uint8\n",
      "OnlineBackup_Yes                       7043 non-null uint8\n",
      "DeviceProtection_Nointernetservice     7043 non-null uint8\n",
      "DeviceProtection_Yes                   7043 non-null uint8\n",
      "TechSupport_Nointernetservice          7043 non-null uint8\n",
      "TechSupport_Yes                        7043 non-null uint8\n",
      "StreamingTV_Nointernetservice          7043 non-null uint8\n",
      "StreamingTV_Yes                        7043 non-null uint8\n",
      "StreamingMovies_Nointernetservice      7043 non-null uint8\n",
      "StreamingMovies_Yes                    7043 non-null uint8\n",
      "Contract_Oneyear                       7043 non-null uint8\n",
      "Contract_Twoyear                       7043 non-null uint8\n",
      "PaperlessBilling_Yes                   7043 non-null uint8\n",
      "PaymentMethod_Creditcard(automatic)    7043 non-null uint8\n",
      "PaymentMethod_Electroniccheck          7043 non-null uint8\n",
      "PaymentMethod_Mailedcheck              7043 non-null uint8\n",
      "dtypes: float64(2), int64(1), uint8(28)\n",
      "memory usage: 357.7 KB\n"
     ]
    }
   ],
   "source": [
    "data_final.info()"
   ]
  },
  {
   "cell_type": "code",
   "execution_count": 25,
   "metadata": {},
   "outputs": [
    {
     "ename": "TypeError",
     "evalue": "a bytes-like object is required, not 'str'",
     "output_type": "error",
     "traceback": [
      "\u001b[1;31m---------------------------------------------------------------------------\u001b[0m",
      "\u001b[1;31mTypeError\u001b[0m                                 Traceback (most recent call last)",
      "\u001b[1;32mC:\\ProgramData\\Anaconda3\\lib\\site-packages\\IPython\\core\\formatters.py\u001b[0m in \u001b[0;36m__call__\u001b[1;34m(self, obj, include, exclude)\u001b[0m\n\u001b[0;32m    968\u001b[0m \u001b[1;33m\u001b[0m\u001b[0m\n\u001b[0;32m    969\u001b[0m             \u001b[1;32mif\u001b[0m \u001b[0mmethod\u001b[0m \u001b[1;32mis\u001b[0m \u001b[1;32mnot\u001b[0m \u001b[1;32mNone\u001b[0m\u001b[1;33m:\u001b[0m\u001b[1;33m\u001b[0m\u001b[0m\n\u001b[1;32m--> 970\u001b[1;33m                 \u001b[1;32mreturn\u001b[0m \u001b[0mmethod\u001b[0m\u001b[1;33m(\u001b[0m\u001b[0minclude\u001b[0m\u001b[1;33m=\u001b[0m\u001b[0minclude\u001b[0m\u001b[1;33m,\u001b[0m \u001b[0mexclude\u001b[0m\u001b[1;33m=\u001b[0m\u001b[0mexclude\u001b[0m\u001b[1;33m)\u001b[0m\u001b[1;33m\u001b[0m\u001b[0m\n\u001b[0m\u001b[0;32m    971\u001b[0m             \u001b[1;32mreturn\u001b[0m \u001b[1;32mNone\u001b[0m\u001b[1;33m\u001b[0m\u001b[0m\n\u001b[0;32m    972\u001b[0m         \u001b[1;32melse\u001b[0m\u001b[1;33m:\u001b[0m\u001b[1;33m\u001b[0m\u001b[0m\n",
      "\u001b[1;32mC:\\ProgramData\\Anaconda3\\lib\\site-packages\\IPython\\core\\display.py\u001b[0m in \u001b[0;36m_repr_mimebundle_\u001b[1;34m(self, include, exclude)\u001b[0m\n\u001b[0;32m   1207\u001b[0m         \u001b[1;32mif\u001b[0m \u001b[0mself\u001b[0m\u001b[1;33m.\u001b[0m\u001b[0membed\u001b[0m\u001b[1;33m:\u001b[0m\u001b[1;33m\u001b[0m\u001b[0m\n\u001b[0;32m   1208\u001b[0m             \u001b[0mmimetype\u001b[0m \u001b[1;33m=\u001b[0m \u001b[0mself\u001b[0m\u001b[1;33m.\u001b[0m\u001b[0m_mimetype\u001b[0m\u001b[1;33m\u001b[0m\u001b[0m\n\u001b[1;32m-> 1209\u001b[1;33m             \u001b[0mdata\u001b[0m\u001b[1;33m,\u001b[0m \u001b[0mmetadata\u001b[0m \u001b[1;33m=\u001b[0m \u001b[0mself\u001b[0m\u001b[1;33m.\u001b[0m\u001b[0m_data_and_metadata\u001b[0m\u001b[1;33m(\u001b[0m\u001b[0malways_both\u001b[0m\u001b[1;33m=\u001b[0m\u001b[1;32mTrue\u001b[0m\u001b[1;33m)\u001b[0m\u001b[1;33m\u001b[0m\u001b[0m\n\u001b[0m\u001b[0;32m   1210\u001b[0m             \u001b[1;32mif\u001b[0m \u001b[0mmetadata\u001b[0m\u001b[1;33m:\u001b[0m\u001b[1;33m\u001b[0m\u001b[0m\n\u001b[0;32m   1211\u001b[0m                 \u001b[0mmetadata\u001b[0m \u001b[1;33m=\u001b[0m \u001b[1;33m{\u001b[0m\u001b[0mmimetype\u001b[0m\u001b[1;33m:\u001b[0m \u001b[0mmetadata\u001b[0m\u001b[1;33m}\u001b[0m\u001b[1;33m\u001b[0m\u001b[0m\n",
      "\u001b[1;32mC:\\ProgramData\\Anaconda3\\lib\\site-packages\\IPython\\core\\display.py\u001b[0m in \u001b[0;36m_data_and_metadata\u001b[1;34m(self, always_both)\u001b[0m\n\u001b[0;32m   1216\u001b[0m     \u001b[1;32mdef\u001b[0m \u001b[0m_data_and_metadata\u001b[0m\u001b[1;33m(\u001b[0m\u001b[0mself\u001b[0m\u001b[1;33m,\u001b[0m \u001b[0malways_both\u001b[0m\u001b[1;33m=\u001b[0m\u001b[1;32mFalse\u001b[0m\u001b[1;33m)\u001b[0m\u001b[1;33m:\u001b[0m\u001b[1;33m\u001b[0m\u001b[0m\n\u001b[0;32m   1217\u001b[0m         \u001b[1;34m\"\"\"shortcut for returning metadata with shape information, if defined\"\"\"\u001b[0m\u001b[1;33m\u001b[0m\u001b[0m\n\u001b[1;32m-> 1218\u001b[1;33m         \u001b[0mb64_data\u001b[0m \u001b[1;33m=\u001b[0m \u001b[0mb2a_base64\u001b[0m\u001b[1;33m(\u001b[0m\u001b[0mself\u001b[0m\u001b[1;33m.\u001b[0m\u001b[0mdata\u001b[0m\u001b[1;33m)\u001b[0m\u001b[1;33m.\u001b[0m\u001b[0mdecode\u001b[0m\u001b[1;33m(\u001b[0m\u001b[1;34m'ascii'\u001b[0m\u001b[1;33m)\u001b[0m\u001b[1;33m\u001b[0m\u001b[0m\n\u001b[0m\u001b[0;32m   1219\u001b[0m         \u001b[0mmd\u001b[0m \u001b[1;33m=\u001b[0m \u001b[1;33m{\u001b[0m\u001b[1;33m}\u001b[0m\u001b[1;33m\u001b[0m\u001b[0m\n\u001b[0;32m   1220\u001b[0m         \u001b[1;32mif\u001b[0m \u001b[0mself\u001b[0m\u001b[1;33m.\u001b[0m\u001b[0mmetadata\u001b[0m\u001b[1;33m:\u001b[0m\u001b[1;33m\u001b[0m\u001b[0m\n",
      "\u001b[1;31mTypeError\u001b[0m: a bytes-like object is required, not 'str'"
     ]
    },
    {
     "ename": "TypeError",
     "evalue": "a bytes-like object is required, not 'str'",
     "output_type": "error",
     "traceback": [
      "\u001b[1;31m---------------------------------------------------------------------------\u001b[0m",
      "\u001b[1;31mTypeError\u001b[0m                                 Traceback (most recent call last)",
      "\u001b[1;32mC:\\ProgramData\\Anaconda3\\lib\\site-packages\\IPython\\core\\formatters.py\u001b[0m in \u001b[0;36m__call__\u001b[1;34m(self, obj)\u001b[0m\n\u001b[0;32m    343\u001b[0m             \u001b[0mmethod\u001b[0m \u001b[1;33m=\u001b[0m \u001b[0mget_real_method\u001b[0m\u001b[1;33m(\u001b[0m\u001b[0mobj\u001b[0m\u001b[1;33m,\u001b[0m \u001b[0mself\u001b[0m\u001b[1;33m.\u001b[0m\u001b[0mprint_method\u001b[0m\u001b[1;33m)\u001b[0m\u001b[1;33m\u001b[0m\u001b[0m\n\u001b[0;32m    344\u001b[0m             \u001b[1;32mif\u001b[0m \u001b[0mmethod\u001b[0m \u001b[1;32mis\u001b[0m \u001b[1;32mnot\u001b[0m \u001b[1;32mNone\u001b[0m\u001b[1;33m:\u001b[0m\u001b[1;33m\u001b[0m\u001b[0m\n\u001b[1;32m--> 345\u001b[1;33m                 \u001b[1;32mreturn\u001b[0m \u001b[0mmethod\u001b[0m\u001b[1;33m(\u001b[0m\u001b[1;33m)\u001b[0m\u001b[1;33m\u001b[0m\u001b[0m\n\u001b[0m\u001b[0;32m    346\u001b[0m             \u001b[1;32mreturn\u001b[0m \u001b[1;32mNone\u001b[0m\u001b[1;33m\u001b[0m\u001b[0m\n\u001b[0;32m    347\u001b[0m         \u001b[1;32melse\u001b[0m\u001b[1;33m:\u001b[0m\u001b[1;33m\u001b[0m\u001b[0m\n",
      "\u001b[1;32mC:\\ProgramData\\Anaconda3\\lib\\site-packages\\IPython\\core\\display.py\u001b[0m in \u001b[0;36m_repr_png_\u001b[1;34m(self)\u001b[0m\n\u001b[0;32m   1233\u001b[0m     \u001b[1;32mdef\u001b[0m \u001b[0m_repr_png_\u001b[0m\u001b[1;33m(\u001b[0m\u001b[0mself\u001b[0m\u001b[1;33m)\u001b[0m\u001b[1;33m:\u001b[0m\u001b[1;33m\u001b[0m\u001b[0m\n\u001b[0;32m   1234\u001b[0m         \u001b[1;32mif\u001b[0m \u001b[0mself\u001b[0m\u001b[1;33m.\u001b[0m\u001b[0membed\u001b[0m \u001b[1;32mand\u001b[0m \u001b[0mself\u001b[0m\u001b[1;33m.\u001b[0m\u001b[0mformat\u001b[0m \u001b[1;33m==\u001b[0m \u001b[0mself\u001b[0m\u001b[1;33m.\u001b[0m\u001b[0m_FMT_PNG\u001b[0m\u001b[1;33m:\u001b[0m\u001b[1;33m\u001b[0m\u001b[0m\n\u001b[1;32m-> 1235\u001b[1;33m             \u001b[1;32mreturn\u001b[0m \u001b[0mself\u001b[0m\u001b[1;33m.\u001b[0m\u001b[0m_data_and_metadata\u001b[0m\u001b[1;33m(\u001b[0m\u001b[1;33m)\u001b[0m\u001b[1;33m\u001b[0m\u001b[0m\n\u001b[0m\u001b[0;32m   1236\u001b[0m \u001b[1;33m\u001b[0m\u001b[0m\n\u001b[0;32m   1237\u001b[0m     \u001b[1;32mdef\u001b[0m \u001b[0m_repr_jpeg_\u001b[0m\u001b[1;33m(\u001b[0m\u001b[0mself\u001b[0m\u001b[1;33m)\u001b[0m\u001b[1;33m:\u001b[0m\u001b[1;33m\u001b[0m\u001b[0m\n",
      "\u001b[1;32mC:\\ProgramData\\Anaconda3\\lib\\site-packages\\IPython\\core\\display.py\u001b[0m in \u001b[0;36m_data_and_metadata\u001b[1;34m(self, always_both)\u001b[0m\n\u001b[0;32m   1216\u001b[0m     \u001b[1;32mdef\u001b[0m \u001b[0m_data_and_metadata\u001b[0m\u001b[1;33m(\u001b[0m\u001b[0mself\u001b[0m\u001b[1;33m,\u001b[0m \u001b[0malways_both\u001b[0m\u001b[1;33m=\u001b[0m\u001b[1;32mFalse\u001b[0m\u001b[1;33m)\u001b[0m\u001b[1;33m:\u001b[0m\u001b[1;33m\u001b[0m\u001b[0m\n\u001b[0;32m   1217\u001b[0m         \u001b[1;34m\"\"\"shortcut for returning metadata with shape information, if defined\"\"\"\u001b[0m\u001b[1;33m\u001b[0m\u001b[0m\n\u001b[1;32m-> 1218\u001b[1;33m         \u001b[0mb64_data\u001b[0m \u001b[1;33m=\u001b[0m \u001b[0mb2a_base64\u001b[0m\u001b[1;33m(\u001b[0m\u001b[0mself\u001b[0m\u001b[1;33m.\u001b[0m\u001b[0mdata\u001b[0m\u001b[1;33m)\u001b[0m\u001b[1;33m.\u001b[0m\u001b[0mdecode\u001b[0m\u001b[1;33m(\u001b[0m\u001b[1;34m'ascii'\u001b[0m\u001b[1;33m)\u001b[0m\u001b[1;33m\u001b[0m\u001b[0m\n\u001b[0m\u001b[0;32m   1219\u001b[0m         \u001b[0mmd\u001b[0m \u001b[1;33m=\u001b[0m \u001b[1;33m{\u001b[0m\u001b[1;33m}\u001b[0m\u001b[1;33m\u001b[0m\u001b[0m\n\u001b[0;32m   1220\u001b[0m         \u001b[1;32mif\u001b[0m \u001b[0mself\u001b[0m\u001b[1;33m.\u001b[0m\u001b[0mmetadata\u001b[0m\u001b[1;33m:\u001b[0m\u001b[1;33m\u001b[0m\u001b[0m\n",
      "\u001b[1;31mTypeError\u001b[0m: a bytes-like object is required, not 'str'"
     ]
    },
    {
     "data": {
      "text/plain": [
       "<IPython.core.display.Image object>"
      ]
     },
     "metadata": {},
     "output_type": "display_data"
    }
   ],
   "source": [
    "from IPython.display import Image, display\n",
    "display(Image('Capture.JPG'))"
   ]
  },
  {
   "cell_type": "code",
   "execution_count": 26,
   "metadata": {},
   "outputs": [
    {
     "name": "stdout",
     "output_type": "stream",
     "text": [
      "length of oversampled data is  7228\n",
      "Number of Churn_No in oversampled data 3614\n",
      "Number of Churn_Yes 3614\n",
      "Proportion of Churn_No data in oversampled data is  0.5\n",
      "Proportion of Churn_Yes data in oversampled data is  0.5\n"
     ]
    },
    {
     "name": "stderr",
     "output_type": "stream",
     "text": [
      "C:\\Users\\rezab\\AppData\\Roaming\\Python\\Python36\\site-packages\\sklearn\\utils\\validation.py:761: DataConversionWarning: A column-vector y was passed when a 1d array was expected. Please change the shape of y to (n_samples, ), for example using ravel().\n",
      "  y = column_or_1d(y, warn=True)\n"
     ]
    }
   ],
   "source": [
    "X = data_final.loc[:, data_final.columns != 'Churn_Yes']\n",
    "y = data_final.loc[:, data_final.columns == 'Churn_Yes']\n",
    "\n",
    "from imblearn.over_sampling import SMOTE\n",
    "\n",
    "os = SMOTE(random_state=0)\n",
    "X_train, X_test, y_train, y_test = train_test_split(X, y, test_size=0.3, random_state=0)\n",
    "columns = X_train.columns\n",
    "\n",
    "os_data_X,os_data_y=os.fit_sample(X_train, y_train)\n",
    "os_data_X = pd.DataFrame(data=os_data_X,columns=columns )\n",
    "os_data_y= pd.DataFrame(data=os_data_y,columns=['y'])\n",
    "# we can Check the numbers of our data\n",
    "print(\"length of oversampled data is \",len(os_data_X))\n",
    "print(\"Number of Churn_No in oversampled data\",len(os_data_y[os_data_y['y']==0]))\n",
    "print(\"Number of Churn_Yes\",len(os_data_y[os_data_y['y']==1]))\n",
    "print(\"Proportion of Churn_No data in oversampled data is \",len(os_data_y[os_data_y['y']==0])/len(os_data_X))\n",
    "print(\"Proportion of Churn_Yes data in oversampled data is \",len(os_data_y[os_data_y['y']==1])/len(os_data_X))"
   ]
  },
  {
   "cell_type": "code",
   "execution_count": 27,
   "metadata": {
    "scrolled": false
   },
   "outputs": [
    {
     "name": "stderr",
     "output_type": "stream",
     "text": [
      "C:\\Users\\rezab\\AppData\\Roaming\\Python\\Python36\\site-packages\\sklearn\\linear_model\\logistic.py:433: FutureWarning: Default solver will be changed to 'lbfgs' in 0.22. Specify a solver to silence this warning.\n",
      "  FutureWarning)\n",
      "C:\\Users\\rezab\\AppData\\Roaming\\Python\\Python36\\site-packages\\sklearn\\linear_model\\logistic.py:433: FutureWarning: Default solver will be changed to 'lbfgs' in 0.22. Specify a solver to silence this warning.\n",
      "  FutureWarning)\n",
      "C:\\Users\\rezab\\AppData\\Roaming\\Python\\Python36\\site-packages\\sklearn\\linear_model\\logistic.py:433: FutureWarning: Default solver will be changed to 'lbfgs' in 0.22. Specify a solver to silence this warning.\n",
      "  FutureWarning)\n",
      "C:\\Users\\rezab\\AppData\\Roaming\\Python\\Python36\\site-packages\\sklearn\\linear_model\\logistic.py:433: FutureWarning: Default solver will be changed to 'lbfgs' in 0.22. Specify a solver to silence this warning.\n",
      "  FutureWarning)\n",
      "C:\\Users\\rezab\\AppData\\Roaming\\Python\\Python36\\site-packages\\sklearn\\linear_model\\logistic.py:433: FutureWarning: Default solver will be changed to 'lbfgs' in 0.22. Specify a solver to silence this warning.\n",
      "  FutureWarning)\n",
      "C:\\Users\\rezab\\AppData\\Roaming\\Python\\Python36\\site-packages\\sklearn\\linear_model\\logistic.py:433: FutureWarning: Default solver will be changed to 'lbfgs' in 0.22. Specify a solver to silence this warning.\n",
      "  FutureWarning)\n",
      "C:\\Users\\rezab\\AppData\\Roaming\\Python\\Python36\\site-packages\\sklearn\\linear_model\\logistic.py:433: FutureWarning: Default solver will be changed to 'lbfgs' in 0.22. Specify a solver to silence this warning.\n",
      "  FutureWarning)\n",
      "C:\\Users\\rezab\\AppData\\Roaming\\Python\\Python36\\site-packages\\sklearn\\linear_model\\logistic.py:433: FutureWarning: Default solver will be changed to 'lbfgs' in 0.22. Specify a solver to silence this warning.\n",
      "  FutureWarning)\n",
      "C:\\Users\\rezab\\AppData\\Roaming\\Python\\Python36\\site-packages\\sklearn\\linear_model\\logistic.py:433: FutureWarning: Default solver will be changed to 'lbfgs' in 0.22. Specify a solver to silence this warning.\n",
      "  FutureWarning)\n",
      "C:\\Users\\rezab\\AppData\\Roaming\\Python\\Python36\\site-packages\\sklearn\\linear_model\\logistic.py:433: FutureWarning: Default solver will be changed to 'lbfgs' in 0.22. Specify a solver to silence this warning.\n",
      "  FutureWarning)\n",
      "C:\\Users\\rezab\\AppData\\Roaming\\Python\\Python36\\site-packages\\sklearn\\linear_model\\logistic.py:433: FutureWarning: Default solver will be changed to 'lbfgs' in 0.22. Specify a solver to silence this warning.\n",
      "  FutureWarning)\n",
      "C:\\Users\\rezab\\AppData\\Roaming\\Python\\Python36\\site-packages\\sklearn\\linear_model\\logistic.py:433: FutureWarning: Default solver will be changed to 'lbfgs' in 0.22. Specify a solver to silence this warning.\n",
      "  FutureWarning)\n",
      "C:\\Users\\rezab\\AppData\\Roaming\\Python\\Python36\\site-packages\\sklearn\\linear_model\\logistic.py:433: FutureWarning: Default solver will be changed to 'lbfgs' in 0.22. Specify a solver to silence this warning.\n",
      "  FutureWarning)\n"
     ]
    },
    {
     "name": "stdout",
     "output_type": "stream",
     "text": [
      "[False False False False False False  True False False False  True False\n",
      " False  True  True  True False False False False  True False False False\n",
      "  True  True  True False  True False]\n",
      "[16 18 21 20  7 17  1 15  9 14  1  6  4  1  1  1 10 19 12  2  1  5  8 11\n",
      "  1  1  1 13  1  3]\n",
      "         tenure  MonthlyCharges  TotalCharges  gender_Female  SeniorCitizen_1  \\\n",
      "0      9.000000       72.900000    651.400000       1.000000         0.000000   \n",
      "1     14.000000       82.650000   1185.000000       0.000000         0.000000   \n",
      "2     64.000000       47.850000   3147.500000       1.000000         0.000000   \n",
      "3     72.000000       69.650000   4908.250000       0.000000         0.000000   \n",
      "4      3.000000       23.600000     89.050000       0.000000         0.000000   \n",
      "5     40.000000       74.550000   3015.750000       0.000000         0.000000   \n",
      "6     17.000000       19.700000    340.350000       1.000000         0.000000   \n",
      "7     11.000000       44.050000    483.700000       1.000000         0.000000   \n",
      "8      8.000000       73.500000    632.200000       1.000000         0.000000   \n",
      "9     47.000000       40.300000   1794.800000       0.000000         0.000000   \n",
      "10    18.000000       33.600000    550.350000       0.000000         0.000000   \n",
      "11     5.000000       96.250000    512.450000       1.000000         0.000000   \n",
      "12     1.000000       70.450000     70.450000       0.000000         0.000000   \n",
      "13     1.000000       30.550000     30.550000       1.000000         0.000000   \n",
      "14    48.000000       44.800000   2104.550000       1.000000         0.000000   \n",
      "15    13.000000       20.000000    218.550000       0.000000         0.000000   \n",
      "16    17.000000       81.500000   1329.200000       0.000000         1.000000   \n",
      "17    58.000000       94.350000   5563.650000       0.000000         0.000000   \n",
      "18     7.000000       35.300000    264.800000       0.000000         0.000000   \n",
      "19     4.000000       50.700000    151.300000       1.000000         0.000000   \n",
      "20    70.000000      106.050000   7554.050000       0.000000         0.000000   \n",
      "21     8.000000       56.300000    401.500000       1.000000         0.000000   \n",
      "22    34.000000       20.650000    716.400000       1.000000         0.000000   \n",
      "23    31.000000       98.900000   2911.300000       1.000000         1.000000   \n",
      "24    37.000000       40.200000   1448.800000       0.000000         0.000000   \n",
      "25    40.000000       81.200000   3292.300000       0.000000         0.000000   \n",
      "26    15.000000       19.450000    340.850000       0.000000         0.000000   \n",
      "27    71.000000      116.100000   8310.550000       0.000000         0.000000   \n",
      "28    10.000000       55.200000    528.350000       1.000000         0.000000   \n",
      "29     5.000000       94.450000    498.100000       0.000000         0.000000   \n",
      "...         ...             ...           ...            ...              ...   \n",
      "7198  22.753347       74.814341   1706.047243       0.246653         0.246653   \n",
      "7199  31.727544       94.855241   2844.190170       0.414172         0.000000   \n",
      "7200   3.000000       74.890815    217.941737       1.000000         0.000000   \n",
      "7201  30.672731       88.352718   2660.535911       0.000000         0.668183   \n",
      "7202   1.000000       44.441282     44.441282       1.000000         0.000000   \n",
      "7203   1.000000       20.926207     20.926207       1.000000         0.000000   \n",
      "7204   1.000000       19.615292     19.615292       0.000000         0.000000   \n",
      "7205  56.221463       95.529050   5325.261279       0.000000         0.000000   \n",
      "7206  17.096503       93.487579   1625.548136       0.010723         0.000000   \n",
      "7207  68.661531      107.350747   7311.921403       0.000000         1.000000   \n",
      "7208   1.000000       19.734355     19.734355       0.000000         0.000000   \n",
      "7209  33.206303       93.618053   3106.019340       0.103152         0.896848   \n",
      "7210   1.000000       96.118092     96.118092       0.000000         0.000000   \n",
      "7211   2.000000       86.473852    164.915224       0.135386         0.135386   \n",
      "7212   3.000000       77.949950    204.993609       1.000000         1.000000   \n",
      "7213   7.000000       79.497582    523.851416       1.000000         0.000000   \n",
      "7214   8.000000       80.865909    584.749714       0.000000         1.000000   \n",
      "7215  37.000000       96.914592   3577.918229       1.000000         0.931852   \n",
      "7216  26.447780       82.913383   2121.815306       0.092037         0.907963   \n",
      "7217   1.000000       94.655961     94.655961       0.573398         0.000000   \n",
      "7218   2.000000       70.002665    145.560660       1.000000         0.000000   \n",
      "7219  19.000000       95.203117   1788.446162       0.929177         0.070823   \n",
      "7220  17.000000       87.466382   1459.391783       0.563633         0.563633   \n",
      "7221   1.000000       79.495496     79.495496       1.000000         0.000000   \n",
      "7222  35.419860       75.493040   2497.317748       0.215012         1.000000   \n",
      "7223   1.000000       70.108092     70.108092       0.000000         0.000000   \n",
      "7224   1.000000       80.993423     80.993423       0.573691         0.000000   \n",
      "7225   1.000000       74.465739     74.465739       0.000000         0.671303   \n",
      "7226  54.911224       99.323114   5448.858851       0.582245         0.000000   \n",
      "7227  51.184582       86.080328   4494.841599       1.000000         0.635903   \n",
      "\n",
      "      Partner_Yes  Dependents_Yes  PhoneService_Yes  \\\n",
      "0        0.000000        1.000000               1.0   \n",
      "1        1.000000        0.000000               1.0   \n",
      "2        1.000000        0.000000               0.0   \n",
      "3        0.000000        0.000000               1.0   \n",
      "4        1.000000        0.000000               1.0   \n",
      "5        1.000000        1.000000               1.0   \n",
      "6        0.000000        0.000000               1.0   \n",
      "7        1.000000        0.000000               1.0   \n",
      "8        0.000000        0.000000               1.0   \n",
      "9        1.000000        1.000000               0.0   \n",
      "10       0.000000        0.000000               0.0   \n",
      "11       0.000000        0.000000               1.0   \n",
      "12       0.000000        1.000000               1.0   \n",
      "13       0.000000        0.000000               0.0   \n",
      "14       0.000000        0.000000               0.0   \n",
      "15       1.000000        1.000000               1.0   \n",
      "16       1.000000        0.000000               1.0   \n",
      "17       1.000000        1.000000               1.0   \n",
      "18       0.000000        0.000000               0.0   \n",
      "19       0.000000        0.000000               1.0   \n",
      "20       1.000000        1.000000               1.0   \n",
      "21       1.000000        1.000000               1.0   \n",
      "22       1.000000        1.000000               1.0   \n",
      "23       1.000000        1.000000               1.0   \n",
      "24       1.000000        1.000000               0.0   \n",
      "25       1.000000        1.000000               1.0   \n",
      "26       1.000000        0.000000               1.0   \n",
      "27       1.000000        0.000000               1.0   \n",
      "28       1.000000        1.000000               1.0   \n",
      "29       1.000000        0.000000               1.0   \n",
      "...           ...             ...               ...   \n",
      "7198     0.000000        0.000000               1.0   \n",
      "7199     1.000000        0.585828               1.0   \n",
      "7200     0.000000        0.000000               1.0   \n",
      "7201     0.668183        0.000000               1.0   \n",
      "7202     0.000000        0.000000               1.0   \n",
      "7203     0.000000        0.000000               1.0   \n",
      "7204     0.000000        0.000000               1.0   \n",
      "7205     1.000000        1.000000               1.0   \n",
      "7206     0.010723        0.010723               1.0   \n",
      "7207     1.000000        0.000000               1.0   \n",
      "7208     0.000000        0.000000               1.0   \n",
      "7209     0.896848        0.000000               1.0   \n",
      "7210     0.764612        0.235388               1.0   \n",
      "7211     0.000000        0.000000               1.0   \n",
      "7212     0.000000        0.000000               1.0   \n",
      "7213     0.000000        0.000000               1.0   \n",
      "7214     0.480114        0.480114               1.0   \n",
      "7215     0.000000        0.000000               1.0   \n",
      "7216     0.000000        0.000000               1.0   \n",
      "7217     0.426602        0.000000               1.0   \n",
      "7218     0.388715        0.388715               1.0   \n",
      "7219     0.000000        0.000000               1.0   \n",
      "7220     1.000000        0.000000               1.0   \n",
      "7221     1.000000        0.207851               1.0   \n",
      "7222     0.000000        0.000000               1.0   \n",
      "7223     1.000000        1.000000               1.0   \n",
      "7224     0.000000        0.000000               1.0   \n",
      "7225     1.000000        0.000000               1.0   \n",
      "7226     0.000000        0.000000               1.0   \n",
      "7227     0.364097        0.000000               1.0   \n",
      "\n",
      "      MultipleLines_Nophoneservice  MultipleLines_Yes  \\\n",
      "0                              0.0           0.000000   \n",
      "1                              0.0           1.000000   \n",
      "2                              1.0           0.000000   \n",
      "3                              0.0           1.000000   \n",
      "4                              0.0           1.000000   \n",
      "5                              0.0           1.000000   \n",
      "6                              0.0           0.000000   \n",
      "7                              0.0           0.000000   \n",
      "8                              0.0           1.000000   \n",
      "9                              1.0           0.000000   \n",
      "10                             1.0           0.000000   \n",
      "11                             0.0           0.000000   \n",
      "12                             0.0           0.000000   \n",
      "13                             1.0           0.000000   \n",
      "14                             1.0           0.000000   \n",
      "15                             0.0           0.000000   \n",
      "16                             0.0           0.000000   \n",
      "17                             0.0           1.000000   \n",
      "18                             1.0           0.000000   \n",
      "19                             0.0           0.000000   \n",
      "20                             0.0           1.000000   \n",
      "21                             0.0           0.000000   \n",
      "22                             0.0           0.000000   \n",
      "23                             0.0           0.000000   \n",
      "24                             1.0           0.000000   \n",
      "25                             0.0           1.000000   \n",
      "26                             0.0           0.000000   \n",
      "27                             0.0           1.000000   \n",
      "28                             0.0           0.000000   \n",
      "29                             0.0           0.000000   \n",
      "...                            ...                ...   \n",
      "7198                           0.0           1.000000   \n",
      "7199                           0.0           1.000000   \n",
      "7200                           0.0           1.000000   \n",
      "7201                           0.0           1.000000   \n",
      "7202                           0.0           0.000000   \n",
      "7203                           0.0           0.000000   \n",
      "7204                           0.0           0.000000   \n",
      "7205                           0.0           1.000000   \n",
      "7206                           0.0           0.010723   \n",
      "7207                           0.0           1.000000   \n",
      "7208                           0.0           0.000000   \n",
      "7209                           0.0           1.000000   \n",
      "7210                           0.0           0.235388   \n",
      "7211                           0.0           1.000000   \n",
      "7212                           0.0           0.838883   \n",
      "7213                           0.0           0.000000   \n",
      "7214                           0.0           0.519886   \n",
      "7215                           0.0           1.000000   \n",
      "7216                           0.0           1.000000   \n",
      "7217                           0.0           0.000000   \n",
      "7218                           0.0           0.000000   \n",
      "7219                           0.0           0.929177   \n",
      "7220                           0.0           1.000000   \n",
      "7221                           0.0           0.000000   \n",
      "7222                           0.0           0.215012   \n",
      "7223                           0.0           0.000000   \n",
      "7224                           0.0           0.000000   \n",
      "7225                           0.0           1.000000   \n",
      "7226                           0.0           0.000000   \n",
      "7227                           0.0           1.000000   \n",
      "\n",
      "                ...              StreamingTV_Nointernetservice  \\\n",
      "0               ...                                        0.0   \n",
      "1               ...                                        0.0   \n",
      "2               ...                                        0.0   \n",
      "3               ...                                        0.0   \n",
      "4               ...                                        1.0   \n",
      "5               ...                                        0.0   \n",
      "6               ...                                        1.0   \n",
      "7               ...                                        0.0   \n",
      "8               ...                                        0.0   \n",
      "9               ...                                        0.0   \n",
      "10              ...                                        0.0   \n",
      "11              ...                                        0.0   \n",
      "12              ...                                        0.0   \n",
      "13              ...                                        0.0   \n",
      "14              ...                                        0.0   \n",
      "15              ...                                        1.0   \n",
      "16              ...                                        0.0   \n",
      "17              ...                                        0.0   \n",
      "18              ...                                        0.0   \n",
      "19              ...                                        0.0   \n",
      "20              ...                                        0.0   \n",
      "21              ...                                        0.0   \n",
      "22              ...                                        1.0   \n",
      "23              ...                                        0.0   \n",
      "24              ...                                        0.0   \n",
      "25              ...                                        0.0   \n",
      "26              ...                                        1.0   \n",
      "27              ...                                        0.0   \n",
      "28              ...                                        0.0   \n",
      "29              ...                                        0.0   \n",
      "...             ...                                        ...   \n",
      "7198            ...                                        0.0   \n",
      "7199            ...                                        0.0   \n",
      "7200            ...                                        0.0   \n",
      "7201            ...                                        0.0   \n",
      "7202            ...                                        0.0   \n",
      "7203            ...                                        1.0   \n",
      "7204            ...                                        1.0   \n",
      "7205            ...                                        0.0   \n",
      "7206            ...                                        0.0   \n",
      "7207            ...                                        0.0   \n",
      "7208            ...                                        1.0   \n",
      "7209            ...                                        0.0   \n",
      "7210            ...                                        0.0   \n",
      "7211            ...                                        0.0   \n",
      "7212            ...                                        0.0   \n",
      "7213            ...                                        0.0   \n",
      "7214            ...                                        0.0   \n",
      "7215            ...                                        0.0   \n",
      "7216            ...                                        0.0   \n",
      "7217            ...                                        0.0   \n",
      "7218            ...                                        0.0   \n",
      "7219            ...                                        0.0   \n",
      "7220            ...                                        0.0   \n",
      "7221            ...                                        0.0   \n",
      "7222            ...                                        0.0   \n",
      "7223            ...                                        0.0   \n",
      "7224            ...                                        0.0   \n",
      "7225            ...                                        0.0   \n",
      "7226            ...                                        0.0   \n",
      "7227            ...                                        0.0   \n",
      "\n",
      "      StreamingTV_Yes  StreamingMovies_Nointernetservice  StreamingMovies_Yes  \\\n",
      "0            1.000000                                0.0             1.000000   \n",
      "1            0.000000                                0.0             0.000000   \n",
      "2            0.000000                                0.0             1.000000   \n",
      "3            0.000000                                0.0             0.000000   \n",
      "4            0.000000                                1.0             0.000000   \n",
      "5            1.000000                                0.0             1.000000   \n",
      "6            0.000000                                1.0             0.000000   \n",
      "7            0.000000                                0.0             0.000000   \n",
      "8            0.000000                                0.0             0.000000   \n",
      "9            0.000000                                0.0             0.000000   \n",
      "10           0.000000                                0.0             0.000000   \n",
      "11           1.000000                                0.0             1.000000   \n",
      "12           0.000000                                0.0             1.000000   \n",
      "13           0.000000                                0.0             0.000000   \n",
      "14           1.000000                                0.0             0.000000   \n",
      "15           0.000000                                1.0             0.000000   \n",
      "16           0.000000                                0.0             1.000000   \n",
      "17           0.000000                                0.0             1.000000   \n",
      "18           0.000000                                0.0             0.000000   \n",
      "19           0.000000                                0.0             0.000000   \n",
      "20           1.000000                                0.0             1.000000   \n",
      "21           0.000000                                0.0             0.000000   \n",
      "22           0.000000                                1.0             0.000000   \n",
      "23           1.000000                                0.0             1.000000   \n",
      "24           0.000000                                0.0             0.000000   \n",
      "25           0.000000                                0.0             0.000000   \n",
      "26           0.000000                                1.0             0.000000   \n",
      "27           1.000000                                0.0             1.000000   \n",
      "28           0.000000                                0.0             0.000000   \n",
      "29           1.000000                                0.0             1.000000   \n",
      "...               ...                                ...                  ...   \n",
      "7198         0.000000                                0.0             0.000000   \n",
      "7199         0.585828                                0.0             0.585828   \n",
      "7200         0.000000                                0.0             0.000000   \n",
      "7201         0.000000                                0.0             1.000000   \n",
      "7202         0.000000                                0.0             0.000000   \n",
      "7203         0.000000                                1.0             0.000000   \n",
      "7204         0.000000                                1.0             0.000000   \n",
      "7205         0.654363                                0.0             1.000000   \n",
      "7206         0.989277                                0.0             0.989277   \n",
      "7207         1.000000                                0.0             1.000000   \n",
      "7208         0.000000                                1.0             0.000000   \n",
      "7209         1.000000                                0.0             1.000000   \n",
      "7210         1.000000                                0.0             1.000000   \n",
      "7211         0.000000                                0.0             1.000000   \n",
      "7212         0.000000                                0.0             0.000000   \n",
      "7213         0.197582                                0.0             0.802418   \n",
      "7214         0.480114                                0.0             0.000000   \n",
      "7215         1.000000                                0.0             1.000000   \n",
      "7216         0.092037                                0.0             0.092037   \n",
      "7217         1.000000                                0.0             1.000000   \n",
      "7218         0.000000                                0.0             0.000000   \n",
      "7219         0.070823                                0.0             1.000000   \n",
      "7220         0.000000                                0.0             0.000000   \n",
      "7221         1.000000                                0.0             0.000000   \n",
      "7222         0.784988                                0.0             0.215012   \n",
      "7223         0.000000                                0.0             0.000000   \n",
      "7224         0.000000                                0.0             1.000000   \n",
      "7225         0.000000                                0.0             0.000000   \n",
      "7226         1.000000                                0.0             1.000000   \n",
      "7227         0.000000                                0.0             0.635903   \n",
      "\n",
      "      Contract_Oneyear  Contract_Twoyear  PaperlessBilling_Yes  \\\n",
      "0             0.000000          0.000000              1.000000   \n",
      "1             0.000000          0.000000              1.000000   \n",
      "2             0.000000          1.000000              0.000000   \n",
      "3             0.000000          1.000000              0.000000   \n",
      "4             0.000000          0.000000              1.000000   \n",
      "5             0.000000          0.000000              1.000000   \n",
      "6             0.000000          0.000000              0.000000   \n",
      "7             0.000000          0.000000              1.000000   \n",
      "8             0.000000          0.000000              1.000000   \n",
      "9             1.000000          0.000000              0.000000   \n",
      "10            0.000000          0.000000              0.000000   \n",
      "11            0.000000          0.000000              1.000000   \n",
      "12            0.000000          0.000000              1.000000   \n",
      "13            0.000000          0.000000              0.000000   \n",
      "14            0.000000          0.000000              1.000000   \n",
      "15            1.000000          0.000000              0.000000   \n",
      "16            0.000000          0.000000              0.000000   \n",
      "17            0.000000          1.000000              0.000000   \n",
      "18            1.000000          0.000000              0.000000   \n",
      "19            0.000000          0.000000              0.000000   \n",
      "20            0.000000          0.000000              1.000000   \n",
      "21            0.000000          0.000000              0.000000   \n",
      "22            0.000000          0.000000              0.000000   \n",
      "23            0.000000          0.000000              1.000000   \n",
      "24            0.000000          0.000000              0.000000   \n",
      "25            0.000000          0.000000              1.000000   \n",
      "26            0.000000          0.000000              1.000000   \n",
      "27            0.000000          1.000000              1.000000   \n",
      "28            0.000000          0.000000              0.000000   \n",
      "29            0.000000          0.000000              1.000000   \n",
      "...                ...               ...                   ...   \n",
      "7198          0.000000          0.000000              1.000000   \n",
      "7199          0.585828          0.000000              0.414172   \n",
      "7200          0.000000          0.000000              0.446195   \n",
      "7201          0.000000          0.000000              0.331817   \n",
      "7202          0.000000          0.000000              0.825643   \n",
      "7203          0.000000          0.000000              0.000000   \n",
      "7204          0.000000          0.000000              0.694166   \n",
      "7205          0.345637          0.000000              0.345637   \n",
      "7206          0.000000          0.000000              0.010723   \n",
      "7207          0.000000          0.661531              1.000000   \n",
      "7208          0.000000          0.000000              0.000000   \n",
      "7209          0.103152          0.000000              1.000000   \n",
      "7210          0.000000          0.000000              1.000000   \n",
      "7211          0.000000          0.000000              0.864614   \n",
      "7212          0.000000          0.000000              1.000000   \n",
      "7213          0.000000          0.000000              1.000000   \n",
      "7214          0.000000          0.000000              1.000000   \n",
      "7215          0.000000          0.000000              1.000000   \n",
      "7216          0.000000          0.000000              1.000000   \n",
      "7217          0.000000          0.000000              0.426602   \n",
      "7218          0.000000          0.000000              0.000000   \n",
      "7219          0.000000          0.000000              1.000000   \n",
      "7220          0.000000          0.000000              0.563633   \n",
      "7221          0.000000          0.000000              1.000000   \n",
      "7222          0.784988          0.000000              1.000000   \n",
      "7223          0.000000          0.000000              1.000000   \n",
      "7224          0.000000          0.000000              1.000000   \n",
      "7225          0.000000          0.000000              1.000000   \n",
      "7226          0.417755          0.582245              1.000000   \n",
      "7227          0.000000          0.000000              1.000000   \n",
      "\n",
      "      PaymentMethod_Creditcard(automatic)  PaymentMethod_Electroniccheck  \\\n",
      "0                                0.000000                       0.000000   \n",
      "1                                0.000000                       1.000000   \n",
      "2                                0.000000                       1.000000   \n",
      "3                                0.000000                       0.000000   \n",
      "4                                0.000000                       0.000000   \n",
      "5                                0.000000                       1.000000   \n",
      "6                                1.000000                       0.000000   \n",
      "7                                0.000000                       1.000000   \n",
      "8                                0.000000                       1.000000   \n",
      "9                                0.000000                       1.000000   \n",
      "10                               0.000000                       0.000000   \n",
      "11                               0.000000                       1.000000   \n",
      "12                               0.000000                       0.000000   \n",
      "13                               0.000000                       0.000000   \n",
      "14                               0.000000                       1.000000   \n",
      "15                               0.000000                       0.000000   \n",
      "16                               0.000000                       0.000000   \n",
      "17                               0.000000                       0.000000   \n",
      "18                               0.000000                       0.000000   \n",
      "19                               1.000000                       0.000000   \n",
      "20                               0.000000                       1.000000   \n",
      "21                               0.000000                       0.000000   \n",
      "22                               0.000000                       0.000000   \n",
      "23                               0.000000                       1.000000   \n",
      "24                               0.000000                       0.000000   \n",
      "25                               0.000000                       1.000000   \n",
      "26                               1.000000                       0.000000   \n",
      "27                               0.000000                       0.000000   \n",
      "28                               1.000000                       0.000000   \n",
      "29                               0.000000                       1.000000   \n",
      "...                                   ...                            ...   \n",
      "7198                             0.000000                       0.753347   \n",
      "7199                             0.414172                       0.585828   \n",
      "7200                             0.000000                       0.446195   \n",
      "7201                             0.331817                       0.668183   \n",
      "7202                             0.000000                       0.000000   \n",
      "7203                             0.000000                       0.000000   \n",
      "7204                             0.000000                       0.000000   \n",
      "7205                             0.654363                       0.000000   \n",
      "7206                             0.000000                       1.000000   \n",
      "7207                             0.000000                       0.338469   \n",
      "7208                             0.000000                       0.000000   \n",
      "7209                             0.103152                       0.896848   \n",
      "7210                             0.000000                       1.000000   \n",
      "7211                             0.000000                       1.000000   \n",
      "7212                             0.000000                       1.000000   \n",
      "7213                             0.000000                       0.802418   \n",
      "7214                             0.480114                       0.519886   \n",
      "7215                             0.000000                       0.931852   \n",
      "7216                             0.000000                       1.000000   \n",
      "7217                             0.000000                       1.000000   \n",
      "7218                             0.000000                       0.388715   \n",
      "7219                             0.070823                       0.929177   \n",
      "7220                             0.436367                       0.000000   \n",
      "7221                             0.000000                       0.000000   \n",
      "7222                             0.784988                       0.215012   \n",
      "7223                             0.000000                       0.000000   \n",
      "7224                             0.000000                       0.573691   \n",
      "7225                             0.000000                       0.671303   \n",
      "7226                             0.000000                       0.582245   \n",
      "7227                             0.635903                       0.364097   \n",
      "\n",
      "      PaymentMethod_Mailedcheck  \n",
      "0                      1.000000  \n",
      "1                      0.000000  \n",
      "2                      0.000000  \n",
      "3                      0.000000  \n",
      "4                      1.000000  \n",
      "5                      0.000000  \n",
      "6                      0.000000  \n",
      "7                      0.000000  \n",
      "8                      0.000000  \n",
      "9                      0.000000  \n",
      "10                     1.000000  \n",
      "11                     0.000000  \n",
      "12                     0.000000  \n",
      "13                     1.000000  \n",
      "14                     0.000000  \n",
      "15                     1.000000  \n",
      "16                     0.000000  \n",
      "17                     0.000000  \n",
      "18                     1.000000  \n",
      "19                     0.000000  \n",
      "20                     0.000000  \n",
      "21                     0.000000  \n",
      "22                     1.000000  \n",
      "23                     0.000000  \n",
      "24                     0.000000  \n",
      "25                     0.000000  \n",
      "26                     0.000000  \n",
      "27                     0.000000  \n",
      "28                     0.000000  \n",
      "29                     0.000000  \n",
      "...                         ...  \n",
      "7198                   0.000000  \n",
      "7199                   0.000000  \n",
      "7200                   0.000000  \n",
      "7201                   0.000000  \n",
      "7202                   1.000000  \n",
      "7203                   1.000000  \n",
      "7204                   1.000000  \n",
      "7205                   0.000000  \n",
      "7206                   0.000000  \n",
      "7207                   0.000000  \n",
      "7208                   1.000000  \n",
      "7209                   0.000000  \n",
      "7210                   0.000000  \n",
      "7211                   0.000000  \n",
      "7212                   0.000000  \n",
      "7213                   0.197582  \n",
      "7214                   0.000000  \n",
      "7215                   0.000000  \n",
      "7216                   0.000000  \n",
      "7217                   0.000000  \n",
      "7218                   0.000000  \n",
      "7219                   0.000000  \n",
      "7220                   0.000000  \n",
      "7221                   0.207851  \n",
      "7222                   0.000000  \n",
      "7223                   1.000000  \n",
      "7224                   0.426309  \n",
      "7225                   0.000000  \n",
      "7226                   0.000000  \n",
      "7227                   0.000000  \n",
      "\n",
      "[7228 rows x 30 columns]\n"
     ]
    },
    {
     "name": "stderr",
     "output_type": "stream",
     "text": [
      "C:\\Users\\rezab\\AppData\\Roaming\\Python\\Python36\\site-packages\\sklearn\\linear_model\\logistic.py:433: FutureWarning: Default solver will be changed to 'lbfgs' in 0.22. Specify a solver to silence this warning.\n",
      "  FutureWarning)\n",
      "C:\\Users\\rezab\\AppData\\Roaming\\Python\\Python36\\site-packages\\sklearn\\linear_model\\logistic.py:433: FutureWarning: Default solver will be changed to 'lbfgs' in 0.22. Specify a solver to silence this warning.\n",
      "  FutureWarning)\n",
      "C:\\Users\\rezab\\AppData\\Roaming\\Python\\Python36\\site-packages\\sklearn\\linear_model\\logistic.py:433: FutureWarning: Default solver will be changed to 'lbfgs' in 0.22. Specify a solver to silence this warning.\n",
      "  FutureWarning)\n",
      "C:\\Users\\rezab\\AppData\\Roaming\\Python\\Python36\\site-packages\\sklearn\\linear_model\\logistic.py:433: FutureWarning: Default solver will be changed to 'lbfgs' in 0.22. Specify a solver to silence this warning.\n",
      "  FutureWarning)\n",
      "C:\\Users\\rezab\\AppData\\Roaming\\Python\\Python36\\site-packages\\sklearn\\linear_model\\logistic.py:433: FutureWarning: Default solver will be changed to 'lbfgs' in 0.22. Specify a solver to silence this warning.\n",
      "  FutureWarning)\n",
      "C:\\Users\\rezab\\AppData\\Roaming\\Python\\Python36\\site-packages\\sklearn\\linear_model\\logistic.py:433: FutureWarning: Default solver will be changed to 'lbfgs' in 0.22. Specify a solver to silence this warning.\n",
      "  FutureWarning)\n",
      "C:\\Users\\rezab\\AppData\\Roaming\\Python\\Python36\\site-packages\\sklearn\\linear_model\\logistic.py:433: FutureWarning: Default solver will be changed to 'lbfgs' in 0.22. Specify a solver to silence this warning.\n",
      "  FutureWarning)\n",
      "C:\\Users\\rezab\\AppData\\Roaming\\Python\\Python36\\site-packages\\sklearn\\linear_model\\logistic.py:433: FutureWarning: Default solver will be changed to 'lbfgs' in 0.22. Specify a solver to silence this warning.\n",
      "  FutureWarning)\n"
     ]
    }
   ],
   "source": [
    "data_final_vars = data_final.columns.values.tolist()\n",
    "y = ['Churn_Yes']\n",
    "X = [i for i in data_final_vars if i not in y]\n",
    "\n",
    "from sklearn.feature_selection import RFE\n",
    "from sklearn.linear_model import LogisticRegression\n",
    "\n",
    "log_reg = LogisticRegression()\n",
    "\n",
    "rfe = RFE(log_reg, 10)\n",
    "rfe = rfe.fit(os_data_X, os_data_y.values.ravel())\n",
    "print(rfe.support_)\n",
    "print(rfe.ranking_)\n",
    "print(os_data_X)"
   ]
  },
  {
   "cell_type": "code",
   "execution_count": null,
   "metadata": {},
   "outputs": [],
   "source": []
  },
  {
   "cell_type": "code",
   "execution_count": null,
   "metadata": {},
   "outputs": [],
   "source": []
  },
  {
   "cell_type": "code",
   "execution_count": 28,
   "metadata": {},
   "outputs": [
    {
     "name": "stderr",
     "output_type": "stream",
     "text": [
      "C:\\ProgramData\\Anaconda3\\lib\\site-packages\\statsmodels\\discrete\\discrete_model.py:1724: RuntimeWarning: divide by zero encountered in log\n",
      "  return np.sum(np.log(self.cdf(q*np.dot(X,params))))\n",
      "C:\\ProgramData\\Anaconda3\\lib\\site-packages\\statsmodels\\base\\model.py:488: HessianInversionWarning: Inverting hessian failed, no bse or cov_params available\n",
      "  'available', HessianInversionWarning)\n"
     ]
    },
    {
     "name": "stdout",
     "output_type": "stream",
     "text": [
      "Optimization terminated successfully.\n",
      "         Current function value: inf\n",
      "         Iterations 7\n",
      "                           Logit Regression Results                           \n",
      "==============================================================================\n",
      "Dep. Variable:                      y   No. Observations:                 7228\n",
      "Model:                          Logit   Df Residuals:                     7210\n",
      "Method:                           MLE   Df Model:                           17\n",
      "Date:                Mon, 29 Apr 2019   Pseudo R-squ.:                     inf\n",
      "Time:                        08:03:07   Log-Likelihood:                   -inf\n",
      "converged:                       True   LL-Null:                        0.0000\n",
      "                                        LLR p-value:                     1.000\n",
      "======================================================================================================\n",
      "                                         coef    std err          z      P>|z|      [0.025      0.975]\n",
      "------------------------------------------------------------------------------------------------------\n",
      "tenure                                -0.0601      0.005    -11.599      0.000      -0.070      -0.050\n",
      "MonthlyCharges                         0.0088      0.002      3.714      0.000       0.004       0.013\n",
      "TotalCharges                           0.0004   5.87e-05      6.132      0.000       0.000       0.000\n",
      "SeniorCitizen_1                        0.3511      0.088      3.979      0.000       0.178       0.524\n",
      "Dependents_Yes                        -0.2636      0.079     -3.348      0.001      -0.418      -0.109\n",
      "MultipleLines_Nophoneservice           0.6218      0.130      4.784      0.000       0.367       0.877\n",
      "InternetService_Fiberoptic             0.5174      0.135      3.844      0.000       0.254       0.781\n",
      "InternetService_No                    -0.0855   6.31e+06  -1.35e-08      1.000   -1.24e+07    1.24e+07\n",
      "OnlineSecurity_Nointernetservice      -0.0855   6.31e+06  -1.35e-08      1.000   -1.24e+07    1.24e+07\n",
      "OnlineSecurity_Yes                    -0.5075      0.084     -6.014      0.000      -0.673      -0.342\n",
      "OnlineBackup_Nointernetservice        -0.0855   6.31e+06  -1.35e-08      1.000   -1.24e+07    1.24e+07\n",
      "OnlineBackup_Yes                      -0.3840      0.080     -4.788      0.000      -0.541      -0.227\n",
      "DeviceProtection_Nointernetservice    -0.0855   6.31e+06  -1.35e-08      1.000   -1.24e+07    1.24e+07\n",
      "TechSupport_Yes                       -0.4296      0.088     -4.879      0.000      -0.602      -0.257\n",
      "StreamingTV_Nointernetservice         -0.0855   6.31e+06  -1.35e-08      1.000   -1.24e+07    1.24e+07\n",
      "StreamingTV_Yes                        0.1834      0.090      2.044      0.041       0.008       0.359\n",
      "StreamingMovies_Nointernetservice     -0.0855   6.31e+06  -1.35e-08      1.000   -1.24e+07    1.24e+07\n",
      "StreamingMovies_Yes                    0.0768      0.089      0.861      0.389      -0.098       0.252\n",
      "Contract_Oneyear                      -0.9151      0.101     -9.102      0.000      -1.112      -0.718\n",
      "Contract_Twoyear                      -1.5772      0.153    -10.291      0.000      -1.878      -1.277\n",
      "PaperlessBilling_Yes                   0.4663      0.073      6.392      0.000       0.323       0.609\n",
      "PaymentMethod_Electroniccheck          0.4788      0.076      6.263      0.000       0.329       0.629\n",
      "PaymentMethod_Mailedcheck              0.0179      0.096      0.186      0.852      -0.171       0.206\n",
      "======================================================================================================\n",
      "RFE(estimator=LogisticRegression(C=1.0, class_weight=None, dual=False, fit_intercept=True,\n",
      "          intercept_scaling=1, max_iter=100, multi_class='warn',\n",
      "          n_jobs=None, penalty='l2', random_state=None, solver='warn',\n",
      "          tol=0.0001, verbose=0, warm_start=False),\n",
      "  n_features_to_select=10, step=1, verbose=0)\n"
     ]
    },
    {
     "name": "stderr",
     "output_type": "stream",
     "text": [
      "C:\\ProgramData\\Anaconda3\\lib\\site-packages\\statsmodels\\base\\model.py:488: HessianInversionWarning: Inverting hessian failed, no bse or cov_params available\n",
      "  'available', HessianInversionWarning)\n"
     ]
    }
   ],
   "source": [
    "cols=[ 'tenure','MonthlyCharges', 'TotalCharges','SeniorCitizen_1', 'Dependents_Yes', 'MultipleLines_Nophoneservice',\n",
    " 'InternetService_Fiberoptic', 'InternetService_No',\n",
    " 'OnlineSecurity_Nointernetservice', 'OnlineSecurity_Yes',\n",
    " 'OnlineBackup_Nointernetservice', 'OnlineBackup_Yes',\n",
    " 'DeviceProtection_Nointernetservice',\n",
    " 'TechSupport_Yes', 'StreamingTV_Nointernetservice',\n",
    " 'StreamingTV_Yes', 'StreamingMovies_Nointernetservice',\n",
    " 'StreamingMovies_Yes', 'Contract_Oneyear',\n",
    " 'Contract_Twoyear', 'PaperlessBilling_Yes',\n",
    " 'PaymentMethod_Electroniccheck', 'PaymentMethod_Mailedcheck'] \n",
    "#cols=[ 'Dependents_Yes',\n",
    " #  'InternetService_Fiberoptic', 'OnlineSecurity_Yes',\n",
    "  # 'StreamingTV_Nointernetservice','Contract_Oneyear', \n",
    "   #'Contract_Twoyear', 'PaperlessBilling_Yes',\n",
    "   #'PaymentMethod_Electroniccheck']\n",
    "X=os_data_X[cols]\n",
    "y=os_data_y['y']\n",
    "\n",
    "import statsmodels.api as sm\n",
    "logit_model=sm.Logit(y,X)\n",
    "result=logit_model.fit()\n",
    "print(result.summary())\n",
    "print(rfe)"
   ]
  },
  {
   "cell_type": "code",
   "execution_count": 29,
   "metadata": {},
   "outputs": [
    {
     "name": "stderr",
     "output_type": "stream",
     "text": [
      "C:\\Users\\rezab\\AppData\\Roaming\\Python\\Python36\\site-packages\\sklearn\\utils\\validation.py:761: DataConversionWarning: A column-vector y was passed when a 1d array was expected. Please change the shape of y to (n_samples, ), for example using ravel().\n",
      "  y = column_or_1d(y, warn=True)\n",
      "C:\\Users\\rezab\\AppData\\Roaming\\Python\\Python36\\site-packages\\sklearn\\linear_model\\logistic.py:433: FutureWarning: Default solver will be changed to 'lbfgs' in 0.22. Specify a solver to silence this warning.\n",
      "  FutureWarning)\n",
      "C:\\Users\\rezab\\AppData\\Roaming\\Python\\Python36\\site-packages\\sklearn\\utils\\validation.py:761: DataConversionWarning: A column-vector y was passed when a 1d array was expected. Please change the shape of y to (n_samples, ), for example using ravel().\n",
      "  y = column_or_1d(y, warn=True)\n"
     ]
    },
    {
     "data": {
      "text/plain": [
       "LogisticRegression(C=1.0, class_weight=None, dual=False, fit_intercept=True,\n",
       "          intercept_scaling=1, max_iter=100, multi_class='warn',\n",
       "          n_jobs=None, penalty='l2', random_state=None, solver='warn',\n",
       "          tol=0.0001, verbose=0, warm_start=False)"
      ]
     },
     "execution_count": 29,
     "metadata": {},
     "output_type": "execute_result"
    }
   ],
   "source": [
    "from sklearn.linear_model import LogisticRegression\n",
    "from sklearn import metrics\n",
    "\n",
    "X = data_final.loc[:, data_final.columns != 'Churn_Yes']\n",
    "y = data_final.loc[:, data_final.columns == 'Churn_Yes']\n",
    "\n",
    "from imblearn.over_sampling import SMOTE\n",
    "\n",
    "os = SMOTE(random_state=0)\n",
    "X_train, X_test, y_train, y_test = train_test_split(X, y, test_size=0.3, random_state=0)\n",
    "columns = X_train.columns\n",
    "\n",
    "os_data_X,os_data_y=os.fit_sample(X_train, y_train)\n",
    "os_data_X = pd.DataFrame(data=os_data_X,columns=columns )\n",
    "os_data_y= pd.DataFrame(data=os_data_y,columns=['y'])\n",
    "\n",
    "X_train, X_test, y_train, y_test = train_test_split(X, y, test_size=0.3, random_state=0)\n",
    "logreg = LogisticRegression()\n",
    "logreg.fit(X_train, y_train)"
   ]
  },
  {
   "cell_type": "code",
   "execution_count": 30,
   "metadata": {},
   "outputs": [
    {
     "name": "stdout",
     "output_type": "stream",
     "text": [
      "Accuracy of logistic regression classifier on test set: 0.80\n"
     ]
    }
   ],
   "source": [
    "y_pred = logreg.predict(X_test)\n",
    "print('Accuracy of logistic regression classifier on test set: {:.2f}'.format(logreg.score(X_test, y_test)))"
   ]
  },
  {
   "cell_type": "code",
   "execution_count": 31,
   "metadata": {},
   "outputs": [
    {
     "name": "stdout",
     "output_type": "stream",
     "text": [
      "[[1399  161]\n",
      " [ 257  296]]\n"
     ]
    }
   ],
   "source": [
    "from sklearn.metrics import confusion_matrix\n",
    "confusion_matrix = confusion_matrix(y_test, y_pred)\n",
    "print(confusion_matrix)"
   ]
  },
  {
   "cell_type": "code",
   "execution_count": 32,
   "metadata": {},
   "outputs": [
    {
     "name": "stderr",
     "output_type": "stream",
     "text": [
      "C:\\Users\\rezab\\AppData\\Roaming\\Python\\Python36\\site-packages\\sklearn\\linear_model\\logistic.py:433: FutureWarning: Default solver will be changed to 'lbfgs' in 0.22. Specify a solver to silence this warning.\n",
      "  FutureWarning)\n"
     ]
    },
    {
     "data": {
      "text/plain": [
       "LogisticRegression(C=1.0, class_weight=None, dual=False, fit_intercept=True,\n",
       "          intercept_scaling=1, max_iter=100, multi_class='warn',\n",
       "          n_jobs=None, penalty='l2', random_state=None, solver='warn',\n",
       "          tol=0.0001, verbose=0, warm_start=False)"
      ]
     },
     "execution_count": 32,
     "metadata": {},
     "output_type": "execute_result"
    }
   ],
   "source": [
    "cols=[ 'Dependents_Yes',\n",
    "       'InternetService_Fiberoptic', 'OnlineSecurity_Yes',\n",
    "       'OnlineBackup_Yes','Contract_Oneyear', \n",
    "       'Contract_Twoyear', 'PaperlessBilling_Yes',\n",
    "       'PaymentMethod_Electroniccheck']\n",
    "X=os_data_X[cols]\n",
    "y=os_data_y['y']\n",
    "\n",
    "X_train, X_test, y_train, y_test = train_test_split(X, y, test_size=0.3, random_state=0)\n",
    "logreg = LogisticRegression()\n",
    "logreg.fit(X_train, y_train)"
   ]
  },
  {
   "cell_type": "code",
   "execution_count": 33,
   "metadata": {},
   "outputs": [
    {
     "name": "stdout",
     "output_type": "stream",
     "text": [
      "Accuracy of logistic regression classifier on test set: 0.76\n"
     ]
    }
   ],
   "source": [
    "y_pred = logreg.predict(X_test)\n",
    "print('Accuracy of logistic regression classifier on test set: {:.2f}'.format(logreg.score(X_test, y_test)))"
   ]
  },
  {
   "cell_type": "code",
   "execution_count": 34,
   "metadata": {},
   "outputs": [
    {
     "name": "stdout",
     "output_type": "stream",
     "text": [
      "[[795 280]\n",
      " [231 863]]\n"
     ]
    }
   ],
   "source": [
    "from sklearn.metrics import confusion_matrix\n",
    "confusion_matrix = confusion_matrix(y_test, y_pred)\n",
    "print(confusion_matrix)"
   ]
  },
  {
   "cell_type": "code",
   "execution_count": 35,
   "metadata": {},
   "outputs": [
    {
     "name": "stdout",
     "output_type": "stream",
     "text": [
      "              precision    recall  f1-score   support\n",
      "\n",
      "           0       0.77      0.74      0.76      1075\n",
      "           1       0.76      0.79      0.77      1094\n",
      "\n",
      "   micro avg       0.76      0.76      0.76      2169\n",
      "   macro avg       0.76      0.76      0.76      2169\n",
      "weighted avg       0.76      0.76      0.76      2169\n",
      "\n"
     ]
    }
   ],
   "source": [
    "from sklearn.metrics import classification_report\n",
    "print(classification_report(y_test, y_pred))"
   ]
  },
  {
   "cell_type": "code",
   "execution_count": 44,
   "metadata": {},
   "outputs": [
    {
     "data": {
      "image/png": "[encoded data removed]",
      "text/plain": [
       "<Figure size 432x288 with 1 Axes>"
      ]
     },
     "metadata": {},
     "output_type": "display_data"
    }
   ],
   "source": [
    "from sklearn.metrics import roc_auc_score\n",
    "from sklearn.metrics import roc_curve\n",
    "logit_roc_auc = roc_auc_score(y_test, logreg.predict(X_test))\n",
    "fpr, tpr, thresholds = roc_curve(y_test, logreg.predict_proba(X_test)[:,1])\n",
    "plt.figure()\n",
    "plt.plot(fpr, tpr, label='Logistic Regression (area = %0.2f)' % logit_roc_auc)\n",
    "plt.plot([0, 1], [0, 1],'r--')\n",
    "plt.xlim([0.0, 1.0])\n",
    "plt.ylim([0.0, 1.05])\n",
    "plt.xlabel('False Positive Rate')\n",
    "plt.ylabel('True Positive Rate')\n",
    "plt.title('Receiver operating characteristic')\n",
    "plt.legend(loc=\"lower right\")\n",
    "plt.show()"
   ]
  },
  {
   "cell_type": "code",
   "execution_count": 43,
   "metadata": {},
   "outputs": [
    {
     "name": "stderr",
     "output_type": "stream",
     "text": [
      "C:\\Users\\rezab\\AppData\\Roaming\\Python\\Python36\\site-packages\\sklearn\\svm\\base.py:196: FutureWarning: The default value of gamma will change from 'auto' to 'scale' in version 0.22 to account better for unscaled features. Set gamma explicitly to 'auto' or 'scale' to avoid this warning.\n",
      "  \"avoid this warning.\", FutureWarning)\n",
      "C:\\Users\\rezab\\AppData\\Roaming\\Python\\Python36\\site-packages\\sklearn\\svm\\base.py:196: FutureWarning: The default value of gamma will change from 'auto' to 'scale' in version 0.22 to account better for unscaled features. Set gamma explicitly to 'auto' or 'scale' to avoid this warning.\n",
      "  \"avoid this warning.\", FutureWarning)\n",
      "C:\\Users\\rezab\\AppData\\Roaming\\Python\\Python36\\site-packages\\sklearn\\svm\\base.py:196: FutureWarning: The default value of gamma will change from 'auto' to 'scale' in version 0.22 to account better for unscaled features. Set gamma explicitly to 'auto' or 'scale' to avoid this warning.\n",
      "  \"avoid this warning.\", FutureWarning)\n",
      "C:\\Users\\rezab\\AppData\\Roaming\\Python\\Python36\\site-packages\\sklearn\\svm\\base.py:196: FutureWarning: The default value of gamma will change from 'auto' to 'scale' in version 0.22 to account better for unscaled features. Set gamma explicitly to 'auto' or 'scale' to avoid this warning.\n",
      "  \"avoid this warning.\", FutureWarning)\n",
      "C:\\Users\\rezab\\AppData\\Roaming\\Python\\Python36\\site-packages\\sklearn\\svm\\base.py:196: FutureWarning: The default value of gamma will change from 'auto' to 'scale' in version 0.22 to account better for unscaled features. Set gamma explicitly to 'auto' or 'scale' to avoid this warning.\n",
      "  \"avoid this warning.\", FutureWarning)\n",
      "C:\\Users\\rezab\\AppData\\Roaming\\Python\\Python36\\site-packages\\sklearn\\ensemble\\forest.py:246: FutureWarning: The default value of n_estimators will change from 10 in version 0.20 to 100 in 0.22.\n",
      "  \"10 in version 0.20 to 100 in 0.22.\", FutureWarning)\n",
      "C:\\Users\\rezab\\AppData\\Roaming\\Python\\Python36\\site-packages\\sklearn\\ensemble\\forest.py:246: FutureWarning: The default value of n_estimators will change from 10 in version 0.20 to 100 in 0.22.\n",
      "  \"10 in version 0.20 to 100 in 0.22.\", FutureWarning)\n",
      "C:\\Users\\rezab\\AppData\\Roaming\\Python\\Python36\\site-packages\\sklearn\\ensemble\\forest.py:246: FutureWarning: The default value of n_estimators will change from 10 in version 0.20 to 100 in 0.22.\n",
      "  \"10 in version 0.20 to 100 in 0.22.\", FutureWarning)\n",
      "C:\\Users\\rezab\\AppData\\Roaming\\Python\\Python36\\site-packages\\sklearn\\ensemble\\forest.py:246: FutureWarning: The default value of n_estimators will change from 10 in version 0.20 to 100 in 0.22.\n",
      "  \"10 in version 0.20 to 100 in 0.22.\", FutureWarning)\n",
      "C:\\Users\\rezab\\AppData\\Roaming\\Python\\Python36\\site-packages\\sklearn\\ensemble\\forest.py:246: FutureWarning: The default value of n_estimators will change from 10 in version 0.20 to 100 in 0.22.\n",
      "  \"10 in version 0.20 to 100 in 0.22.\", FutureWarning)\n",
      "C:\\Users\\rezab\\AppData\\Roaming\\Python\\Python36\\site-packages\\sklearn\\linear_model\\logistic.py:433: FutureWarning: Default solver will be changed to 'lbfgs' in 0.22. Specify a solver to silence this warning.\n",
      "  FutureWarning)\n",
      "C:\\Users\\rezab\\AppData\\Roaming\\Python\\Python36\\site-packages\\sklearn\\linear_model\\logistic.py:433: FutureWarning: Default solver will be changed to 'lbfgs' in 0.22. Specify a solver to silence this warning.\n",
      "  FutureWarning)\n",
      "C:\\Users\\rezab\\AppData\\Roaming\\Python\\Python36\\site-packages\\sklearn\\linear_model\\logistic.py:433: FutureWarning: Default solver will be changed to 'lbfgs' in 0.22. Specify a solver to silence this warning.\n",
      "  FutureWarning)\n",
      "C:\\Users\\rezab\\AppData\\Roaming\\Python\\Python36\\site-packages\\sklearn\\linear_model\\logistic.py:433: FutureWarning: Default solver will be changed to 'lbfgs' in 0.22. Specify a solver to silence this warning.\n",
      "  FutureWarning)\n",
      "C:\\Users\\rezab\\AppData\\Roaming\\Python\\Python36\\site-packages\\sklearn\\linear_model\\logistic.py:433: FutureWarning: Default solver will be changed to 'lbfgs' in 0.22. Specify a solver to silence this warning.\n",
      "  FutureWarning)\n"
     ]
    },
    {
     "data": {
      "text/plain": [
       "['CART: 0.800108',\n",
       " 'KNN: 0.756810',\n",
       " 'Naive Bayes: 0.770762',\n",
       " 'SVM: 0.794559',\n",
       " 'Random Forest: 0.802738',\n",
       " 'Logistic Regression: 0.767022']"
      ]
     },
     "execution_count": 43,
     "metadata": {},
     "output_type": "execute_result"
    }
   ],
   "source": [
    "from sklearn.model_selection import StratifiedKFold, cross_val_score,GridSearchCV\n",
    "from sklearn.metrics import accuracy_score\n",
    "from sklearn.tree import DecisionTreeClassifier\n",
    "from sklearn.neighbors import KNeighborsClassifier\n",
    "from sklearn.naive_bayes import GaussianNB\n",
    "from sklearn.svm import SVC\n",
    "from sklearn.ensemble import RandomForestClassifier\n",
    "from sklearn.linear_model import LogisticRegression\n",
    "\n",
    "cv=StratifiedKFold(n_splits=5,random_state=5)\n",
    "\n",
    "models = []\n",
    "models.append(('CART', DecisionTreeClassifier()))\n",
    "models.append(('KNN', KNeighborsClassifier()))\n",
    "models.append(('Naive Bayes', GaussianNB()))\n",
    "models.append(('SVM', SVC()))\n",
    "models.append(('Random Forest', RandomForestClassifier()))\n",
    "models.append(('Logistic Regression', LogisticRegression()))\n",
    "\n",
    "\n",
    "results = []\n",
    "names = []\n",
    "tabel=[]\n",
    "for name, model in models:\n",
    "    akurasi=cross_val_score(model, X, y,cv=cv)\n",
    "    results.append(akurasi)\n",
    "    names.append(name)\n",
    "    hasil = \"%s: %f\" % (name, akurasi.mean())\n",
    "    tabel.append(hasil)\n",
    "tabel"
   ]
  },
  {
   "cell_type": "code",
   "execution_count": null,
   "metadata": {},
   "outputs": [],
   "source": []
  }
 ],
 "metadata": {
  "kernelspec": {
   "display_name": "Python 3",
   "language": "python",
   "name": "python3"
  },
  "language_info": {
   "codemirror_mode": {
    "name": "ipython",
    "version": 3
   },
   "file_extension": ".py",
   "mimetype": "text/x-python",
   "name": "python",
   "nbconvert_exporter": "python",
   "pygments_lexer": "ipython3",
   "version": "3.6.5"
  }
 },
 "nbformat": 4,
 "nbformat_minor": 2
}
